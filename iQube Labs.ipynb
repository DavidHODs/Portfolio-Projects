{
 "cells": [
  {
   "cell_type": "markdown",
   "metadata": {},
   "source": [
    "Classification is the process of predicting the class of given data points. Classes are sometimes called targets/ labels or categories. Classification predictive modeling is the task of approximating a mapping function (f) from input variables (X) to discrete output variables (y).\n",
    "Classification belongs to the category of supervised learning where the targets also provided with the input data.\n",
    "\n",
    "A classifier utilizes some training data to understand how given input variables relate to the class."
   ]
  },
  {
   "cell_type": "markdown",
   "metadata": {
    "id": "9nNpjALRCroo",
    "papermill": {
     "duration": 0.027997,
     "end_time": "2021-02-10T15:26:43.685718",
     "exception": false,
     "start_time": "2021-02-10T15:26:43.657721",
     "status": "completed"
    },
    "tags": []
   },
   "source": [
    "This end goal of this project is to build models (LSTM and Logistic Regression) that can predict the sentiment category or class of texts based on covid19 related tweets."
   ]
  },
  {
   "cell_type": "markdown",
   "metadata": {},
   "source": [
    "The dataset used for this project can be found at https://www.kaggle.com/datatattle/covid-19-nlp-text-classification?rvi=1"
   ]
  },
  {
   "cell_type": "markdown",
   "metadata": {
    "id": "AFFnRKe0CrpJ",
    "papermill": {
     "duration": 0.02596,
     "end_time": "2021-02-10T15:26:43.739592",
     "exception": false,
     "start_time": "2021-02-10T15:26:43.713632",
     "status": "completed"
    },
    "tags": []
   },
   "source": [
    "Python Libraries Needed for Data Analysis"
   ]
  },
  {
   "cell_type": "code",
   "execution_count": 2,
   "metadata": {
    "colab": {
     "base_uri": "https://localhost:8080/"
    },
    "id": "wnoZvgXpFjJy",
    "outputId": "3c2ec93e-fe26-4c52-c477-b1a739428db0"
   },
   "outputs": [
    {
     "name": "stdout",
     "output_type": "stream",
     "text": [
      "Drive already mounted at /content/drive; to attempt to forcibly remount, call drive.mount(\"/content/drive\", force_remount=True).\n"
     ]
    }
   ],
   "source": [
    "from google.colab import drive\n",
    "drive.mount('/content/drive')"
   ]
  },
  {
   "cell_type": "markdown",
   "metadata": {
    "id": "S81T6R05EvAa"
   },
   "source": []
  },
  {
   "cell_type": "code",
   "execution_count": 3,
   "metadata": {
    "execution": {
     "iopub.execute_input": "2021-02-10T15:26:43.800435Z",
     "iopub.status.busy": "2021-02-10T15:26:43.799436Z",
     "iopub.status.idle": "2021-02-10T15:26:43.802926Z",
     "shell.execute_reply": "2021-02-10T15:26:43.802212Z"
    },
    "id": "QoZ6PEsvCrpM",
    "papermill": {
     "duration": 0.037248,
     "end_time": "2021-02-10T15:26:43.803148",
     "exception": false,
     "start_time": "2021-02-10T15:26:43.765900",
     "status": "completed"
    },
    "tags": []
   },
   "outputs": [],
   "source": [
    "import os\n",
    "import pandas as pd\n",
    "import numpy as np\n",
    "import matplotlib.pyplot as plt\n",
    "%matplotlib inline"
   ]
  },
  {
   "cell_type": "code",
   "execution_count": 4,
   "metadata": {
    "execution": {
     "iopub.execute_input": "2021-02-10T15:26:43.861271Z",
     "iopub.status.busy": "2021-02-10T15:26:43.860686Z",
     "iopub.status.idle": "2021-02-10T15:26:44.204427Z",
     "shell.execute_reply": "2021-02-10T15:26:44.203655Z"
    },
    "id": "LPgAG7hqCrpN",
    "papermill": {
     "duration": 0.373624,
     "end_time": "2021-02-10T15:26:44.204606",
     "exception": false,
     "start_time": "2021-02-10T15:26:43.830982",
     "status": "completed"
    },
    "tags": []
   },
   "outputs": [],
   "source": [
    "train = pd.read_csv('/content/drive/MyDrive/download.zip (Unzipped Files)/Corona_NLP_train.csv', encoding='latin-1')\n",
    "test = pd.read_csv('/content/drive/MyDrive/download.zip (Unzipped Files)/Corona_NLP_test.csv', encoding='latin-1')"
   ]
  },
  {
   "cell_type": "markdown",
   "metadata": {
    "id": "E3AmlX-4CrpP",
    "papermill": {
     "duration": 0.026518,
     "end_time": "2021-02-10T15:26:44.258024",
     "exception": false,
     "start_time": "2021-02-10T15:26:44.231506",
     "status": "completed"
    },
    "tags": []
   },
   "source": [
    "Viewing the Training Set"
   ]
  },
  {
   "cell_type": "code",
   "execution_count": null,
   "metadata": {},
   "outputs": [],
   "source": [
    "#As expected of datasets made up of tweets, it contains urls, @ and hashtags"
   ]
  },
  {
   "cell_type": "code",
   "execution_count": 5,
   "metadata": {
    "colab": {
     "base_uri": "https://localhost:8080/",
     "height": 195
    },
    "execution": {
     "iopub.execute_input": "2021-02-10T15:26:44.325877Z",
     "iopub.status.busy": "2021-02-10T15:26:44.324941Z",
     "iopub.status.idle": "2021-02-10T15:26:44.344669Z",
     "shell.execute_reply": "2021-02-10T15:26:44.345277Z"
    },
    "id": "09BNWT_ICrpQ",
    "outputId": "84f2916a-6056-49c6-8c1b-c2c9b60c84ae",
    "papermill": {
     "duration": 0.0605,
     "end_time": "2021-02-10T15:26:44.345445",
     "exception": false,
     "start_time": "2021-02-10T15:26:44.284945",
     "status": "completed"
    },
    "tags": []
   },
   "outputs": [
    {
     "data": {
      "text/html": [
       "<div>\n",
       "<style scoped>\n",
       "    .dataframe tbody tr th:only-of-type {\n",
       "        vertical-align: middle;\n",
       "    }\n",
       "\n",
       "    .dataframe tbody tr th {\n",
       "        vertical-align: top;\n",
       "    }\n",
       "\n",
       "    .dataframe thead th {\n",
       "        text-align: right;\n",
       "    }\n",
       "</style>\n",
       "<table border=\"1\" class=\"dataframe\">\n",
       "  <thead>\n",
       "    <tr style=\"text-align: right;\">\n",
       "      <th></th>\n",
       "      <th>UserName</th>\n",
       "      <th>ScreenName</th>\n",
       "      <th>Location</th>\n",
       "      <th>TweetAt</th>\n",
       "      <th>OriginalTweet</th>\n",
       "      <th>Sentiment</th>\n",
       "    </tr>\n",
       "  </thead>\n",
       "  <tbody>\n",
       "    <tr>\n",
       "      <th>0</th>\n",
       "      <td>3799</td>\n",
       "      <td>48751</td>\n",
       "      <td>London</td>\n",
       "      <td>16-03-2020</td>\n",
       "      <td>@MeNyrbie @Phil_Gahan @Chrisitv https://t.co/i...</td>\n",
       "      <td>Neutral</td>\n",
       "    </tr>\n",
       "    <tr>\n",
       "      <th>1</th>\n",
       "      <td>3800</td>\n",
       "      <td>48752</td>\n",
       "      <td>UK</td>\n",
       "      <td>16-03-2020</td>\n",
       "      <td>advice Talk to your neighbours family to excha...</td>\n",
       "      <td>Positive</td>\n",
       "    </tr>\n",
       "    <tr>\n",
       "      <th>2</th>\n",
       "      <td>3801</td>\n",
       "      <td>48753</td>\n",
       "      <td>Vagabonds</td>\n",
       "      <td>16-03-2020</td>\n",
       "      <td>Coronavirus Australia: Woolworths to give elde...</td>\n",
       "      <td>Positive</td>\n",
       "    </tr>\n",
       "    <tr>\n",
       "      <th>3</th>\n",
       "      <td>3802</td>\n",
       "      <td>48754</td>\n",
       "      <td>NaN</td>\n",
       "      <td>16-03-2020</td>\n",
       "      <td>My food stock is not the only one which is emp...</td>\n",
       "      <td>Positive</td>\n",
       "    </tr>\n",
       "    <tr>\n",
       "      <th>4</th>\n",
       "      <td>3803</td>\n",
       "      <td>48755</td>\n",
       "      <td>NaN</td>\n",
       "      <td>16-03-2020</td>\n",
       "      <td>Me, ready to go at supermarket during the #COV...</td>\n",
       "      <td>Extremely Negative</td>\n",
       "    </tr>\n",
       "  </tbody>\n",
       "</table>\n",
       "</div>"
      ],
      "text/plain": [
       "   UserName  ...           Sentiment\n",
       "0      3799  ...             Neutral\n",
       "1      3800  ...            Positive\n",
       "2      3801  ...            Positive\n",
       "3      3802  ...            Positive\n",
       "4      3803  ...  Extremely Negative\n",
       "\n",
       "[5 rows x 6 columns]"
      ]
     },
     "execution_count": 5,
     "metadata": {
      "tags": []
     },
     "output_type": "execute_result"
    }
   ],
   "source": [
    "train.head()"
   ]
  },
  {
   "cell_type": "code",
   "execution_count": 7,
   "metadata": {
    "colab": {
     "base_uri": "https://localhost:8080/"
    },
    "execution": {
     "iopub.execute_input": "2021-02-10T15:26:44.498258Z",
     "iopub.status.busy": "2021-02-10T15:26:44.497600Z",
     "iopub.status.idle": "2021-02-10T15:26:44.513571Z",
     "shell.execute_reply": "2021-02-10T15:26:44.512682Z"
    },
    "id": "qDr5bSKLCrpU",
    "outputId": "6ab782cf-a8f9-4945-c03b-6ce00bc7df34",
    "papermill": {
     "duration": 0.058493,
     "end_time": "2021-02-10T15:26:44.513775",
     "exception": false,
     "start_time": "2021-02-10T15:26:44.455282",
     "status": "completed"
    },
    "tags": []
   },
   "outputs": [
    {
     "name": "stdout",
     "output_type": "stream",
     "text": [
      "<class 'pandas.core.frame.DataFrame'>\n",
      "RangeIndex: 41157 entries, 0 to 41156\n",
      "Data columns (total 6 columns):\n",
      " #   Column         Non-Null Count  Dtype \n",
      "---  ------         --------------  ----- \n",
      " 0   UserName       41157 non-null  int64 \n",
      " 1   ScreenName     41157 non-null  int64 \n",
      " 2   Location       32567 non-null  object\n",
      " 3   TweetAt        41157 non-null  object\n",
      " 4   OriginalTweet  41157 non-null  object\n",
      " 5   Sentiment      41157 non-null  object\n",
      "dtypes: int64(2), object(4)\n",
      "memory usage: 1.9+ MB\n"
     ]
    }
   ],
   "source": [
    "train.info()"
   ]
  },
  {
   "cell_type": "markdown",
   "metadata": {
    "id": "fKp4DCXDCrpW",
    "papermill": {
     "duration": 0.02807,
     "end_time": "2021-02-10T15:26:44.570837",
     "exception": false,
     "start_time": "2021-02-10T15:26:44.542767",
     "status": "completed"
    },
    "tags": []
   },
   "source": [
    "Only two of the columns contain integers. There are missing datas in the Location Column"
   ]
  },
  {
   "cell_type": "code",
   "execution_count": 8,
   "metadata": {
    "colab": {
     "base_uri": "https://localhost:8080/"
    },
    "execution": {
     "iopub.execute_input": "2021-02-10T15:26:44.642474Z",
     "iopub.status.busy": "2021-02-10T15:26:44.641830Z",
     "iopub.status.idle": "2021-02-10T15:26:44.649525Z",
     "shell.execute_reply": "2021-02-10T15:26:44.648906Z"
    },
    "id": "F4gpbKapCrpY",
    "outputId": "6170e63a-3946-480f-e4a3-b31d2c8f461f",
    "papermill": {
     "duration": 0.050454,
     "end_time": "2021-02-10T15:26:44.649683",
     "exception": false,
     "start_time": "2021-02-10T15:26:44.599229",
     "status": "completed"
    },
    "tags": []
   },
   "outputs": [
    {
     "data": {
      "text/plain": [
       "UserName            0\n",
       "ScreenName          0\n",
       "Location         8590\n",
       "TweetAt             0\n",
       "OriginalTweet       0\n",
       "Sentiment           0\n",
       "dtype: int64"
      ]
     },
     "execution_count": 8,
     "metadata": {
      "tags": []
     },
     "output_type": "execute_result"
    }
   ],
   "source": [
    "train.isnull().sum()"
   ]
  },
  {
   "cell_type": "markdown",
   "metadata": {
    "id": "n4lIb9zmCrpa",
    "papermill": {
     "duration": 0.029707,
     "end_time": "2021-02-10T15:26:44.708463",
     "exception": false,
     "start_time": "2021-02-10T15:26:44.678756",
     "status": "completed"
    },
    "tags": []
   },
   "source": [
    "There are 8,590 blank rows in the Location column."
   ]
  },
  {
   "cell_type": "code",
   "execution_count": 9,
   "metadata": {
    "colab": {
     "base_uri": "https://localhost:8080/"
    },
    "execution": {
     "iopub.execute_input": "2021-02-10T15:26:44.778917Z",
     "iopub.status.busy": "2021-02-10T15:26:44.778225Z",
     "iopub.status.idle": "2021-02-10T15:26:44.788962Z",
     "shell.execute_reply": "2021-02-10T15:26:44.787989Z"
    },
    "id": "Rnq54y9DCrpb",
    "outputId": "4f389ff5-821a-4493-d2b9-8eea59be433b",
    "papermill": {
     "duration": 0.052097,
     "end_time": "2021-02-10T15:26:44.789127",
     "exception": false,
     "start_time": "2021-02-10T15:26:44.737030",
     "status": "completed"
    },
    "tags": []
   },
   "outputs": [
    {
     "data": {
      "text/plain": [
       "London                                    540\n",
       "United States                             528\n",
       "London, England                           520\n",
       "New York, NY                              395\n",
       "Washington, DC                            373\n",
       "                                         ... \n",
       "Paradise                                    1\n",
       "Daylesford - Hepburn Springs, Victoria      1\n",
       "~514~                                       1\n",
       "Bournemouth University                      1\n",
       "Remote                                      1\n",
       "Name: Location, Length: 12220, dtype: int64"
      ]
     },
     "execution_count": 9,
     "metadata": {
      "tags": []
     },
     "output_type": "execute_result"
    }
   ],
   "source": [
    "train['Location'].value_counts()"
   ]
  },
  {
   "cell_type": "markdown",
   "metadata": {
    "id": "RLcMke42Crpd",
    "papermill": {
     "duration": 0.029427,
     "end_time": "2021-02-10T15:26:44.847846",
     "exception": false,
     "start_time": "2021-02-10T15:26:44.818419",
     "status": "completed"
    },
    "tags": []
   },
   "source": [
    "Visual Details of the Training Set Features"
   ]
  },
  {
   "cell_type": "code",
   "execution_count": 10,
   "metadata": {
    "execution": {
     "iopub.execute_input": "2021-02-10T15:26:44.911043Z",
     "iopub.status.busy": "2021-02-10T15:26:44.910381Z",
     "iopub.status.idle": "2021-02-10T15:26:45.791771Z",
     "shell.execute_reply": "2021-02-10T15:26:45.791078Z"
    },
    "id": "9o_3IV5uCrpe",
    "papermill": {
     "duration": 0.915123,
     "end_time": "2021-02-10T15:26:45.792012",
     "exception": false,
     "start_time": "2021-02-10T15:26:44.876889",
     "status": "completed"
    },
    "tags": []
   },
   "outputs": [],
   "source": [
    "import seaborn as sns"
   ]
  },
  {
   "cell_type": "code",
   "execution_count": 11,
   "metadata": {
    "colab": {
     "base_uri": "https://localhost:8080/",
     "height": 638
    },
    "execution": {
     "iopub.execute_input": "2021-02-10T15:26:45.866056Z",
     "iopub.status.busy": "2021-02-10T15:26:45.865102Z",
     "iopub.status.idle": "2021-02-10T15:26:46.198278Z",
     "shell.execute_reply": "2021-02-10T15:26:46.197731Z"
    },
    "id": "y_W1x-Z9Crpf",
    "outputId": "9da5c8b5-00f6-4c88-8271-605968d6f600",
    "papermill": {
     "duration": 0.376632,
     "end_time": "2021-02-10T15:26:46.198424",
     "exception": false,
     "start_time": "2021-02-10T15:26:45.821792",
     "status": "completed"
    },
    "tags": []
   },
   "outputs": [
    {
     "data": {
      "text/plain": [
       "Text(0.5, 1.0, 'Twitted locations')"
      ]
     },
     "execution_count": 11,
     "metadata": {
      "tags": []
     },
     "output_type": "execute_result"
    },
    {
     "data": {
      "image/png": "[encoded data removed]",
      "text/plain": [
       "<Figure size 720x720 with 1 Axes>"
      ]
     },
     "metadata": {
      "needs_background": "light",
      "tags": []
     },
     "output_type": "display_data"
    }
   ],
   "source": [
    "plt.figure(figsize=(10,10))\n",
    "sns.countplot(y='Location',data=train,order=train.Location.value_counts().iloc[\n",
    "    0:19].index).set_title(\"Twitted locations\")"
   ]
  },
  {
   "cell_type": "code",
   "execution_count": 12,
   "metadata": {
    "colab": {
     "base_uri": "https://localhost:8080/"
    },
    "execution": {
     "iopub.execute_input": "2021-02-10T15:26:46.272574Z",
     "iopub.status.busy": "2021-02-10T15:26:46.271649Z",
     "iopub.status.idle": "2021-02-10T15:26:46.277010Z",
     "shell.execute_reply": "2021-02-10T15:26:46.276361Z"
    },
    "id": "wQCk2ywPCrph",
    "outputId": "cb35c0b4-2db1-4065-8ebe-5577e27bf73d",
    "papermill": {
     "duration": 0.047228,
     "end_time": "2021-02-10T15:26:46.277152",
     "exception": false,
     "start_time": "2021-02-10T15:26:46.229924",
     "status": "completed"
    },
    "tags": []
   },
   "outputs": [
    {
     "data": {
      "text/plain": [
       "Positive              11422\n",
       "Negative               9917\n",
       "Neutral                7713\n",
       "Extremely Positive     6624\n",
       "Extremely Negative     5481\n",
       "Name: Sentiment, dtype: int64"
      ]
     },
     "execution_count": 12,
     "metadata": {
      "tags": []
     },
     "output_type": "execute_result"
    }
   ],
   "source": [
    "train['Sentiment'].value_counts()"
   ]
  },
  {
   "cell_type": "code",
   "execution_count": 13,
   "metadata": {
    "colab": {
     "base_uri": "https://localhost:8080/",
     "height": 462
    },
    "execution": {
     "iopub.execute_input": "2021-02-10T15:26:46.349454Z",
     "iopub.status.busy": "2021-02-10T15:26:46.348821Z",
     "iopub.status.idle": "2021-02-10T15:26:46.581366Z",
     "shell.execute_reply": "2021-02-10T15:26:46.581840Z"
    },
    "id": "4tzZA8umCrpi",
    "outputId": "a7d1fd70-0d5e-446f-8651-336f4c9181c2",
    "papermill": {
     "duration": 0.273011,
     "end_time": "2021-02-10T15:26:46.582032",
     "exception": false,
     "start_time": "2021-02-10T15:26:46.309021",
     "status": "completed"
    },
    "tags": []
   },
   "outputs": [
    {
     "data": {
      "text/plain": [
       "Text(0, 0.5, 'Volume of Tweet')"
      ]
     },
     "execution_count": 13,
     "metadata": {
      "tags": []
     },
     "output_type": "execute_result"
    },
    {
     "data": {
      "image/png": "[encoded data removed]",
      "text/plain": [
       "<Figure size 504x504 with 1 Axes>"
      ]
     },
     "metadata": {
      "needs_background": "light",
      "tags": []
     },
     "output_type": "display_data"
    }
   ],
   "source": [
    "train.Sentiment.value_counts().plot.bar(figsize=(7,7))\n",
    "plt.xticks(rotation=None)\n",
    "plt.xlabel('Sentimental Category', fontsize=12)\n",
    "plt.ylabel('Volume of Tweet')"
   ]
  },
  {
   "cell_type": "code",
   "execution_count": 14,
   "metadata": {
    "colab": {
     "base_uri": "https://localhost:8080/",
     "height": 297
    },
    "execution": {
     "iopub.execute_input": "2021-02-10T15:26:46.649777Z",
     "iopub.status.busy": "2021-02-10T15:26:46.649187Z",
     "iopub.status.idle": "2021-02-10T15:26:46.778630Z",
     "shell.execute_reply": "2021-02-10T15:26:46.778026Z"
    },
    "id": "Bzq2j_niCrpk",
    "outputId": "687a8398-e1e1-4e08-ca9e-e1fa64434fa3",
    "papermill": {
     "duration": 0.16412,
     "end_time": "2021-02-10T15:26:46.778765",
     "exception": false,
     "start_time": "2021-02-10T15:26:46.614645",
     "status": "completed"
    },
    "tags": []
   },
   "outputs": [
    {
     "data": {
      "image/png": "[encoded data removed]",
      "text/plain": [
       "<Figure size 432x288 with 1 Axes>"
      ]
     },
     "metadata": {
      "tags": []
     },
     "output_type": "display_data"
    }
   ],
   "source": [
    "labels = ['Positve', 'Negative', 'Neutral', 'Extremely Positive', 'Extremely Negative']\n",
    "colors = ['#ff9999','#66b3ff','#99ff99','#ffcc99', '#ff5645']\n",
    "explode = (0.05,0.05,0.05,0.05,0.05) \n",
    "plt.pie(train.Sentiment.value_counts(), colors = colors, labels=labels,\n",
    "        autopct='%1.1f%%', startangle=90, pctdistance=0.85, explode = explode)\n",
    "centreCircle = plt.Circle((0,0),0.70,fc='white')\n",
    "fig = plt.gcf()\n",
    "fig.gca().add_artist(centreCircle)\n",
    "plt.tight_layout()\n",
    "plt.show()"
   ]
  },
  {
   "cell_type": "markdown",
   "metadata": {
    "id": "P9UhdaUiCrpl",
    "papermill": {
     "duration": 0.031758,
     "end_time": "2021-02-10T15:26:46.843129",
     "exception": false,
     "start_time": "2021-02-10T15:26:46.811371",
     "status": "completed"
    },
    "tags": []
   },
   "source": [
    "Data Preprocessing\n",
    "\n",
    "Both the test and train set are concatenated together to easily preprocess both together.\n",
    "\n",
    "Training set will have an identity of 0 while the test set will have 1"
   ]
  },
  {
   "cell_type": "code",
   "execution_count": 15,
   "metadata": {
    "execution": {
     "iopub.execute_input": "2021-02-10T15:26:46.915580Z",
     "iopub.status.busy": "2021-02-10T15:26:46.914930Z",
     "iopub.status.idle": "2021-02-10T15:26:46.926516Z",
     "shell.execute_reply": "2021-02-10T15:26:46.925974Z"
    },
    "id": "94rX4l8bCrpm",
    "papermill": {
     "duration": 0.051231,
     "end_time": "2021-02-10T15:26:46.926675",
     "exception": false,
     "start_time": "2021-02-10T15:26:46.875444",
     "status": "completed"
    },
    "tags": []
   },
   "outputs": [],
   "source": [
    "train['Identity'] = 0\n",
    "test['Identity'] = 1 \n",
    "covid = pd.concat([train, test])\n",
    "covid.reset_index(drop=True, inplace=True)"
   ]
  },
  {
   "cell_type": "code",
   "execution_count": 16,
   "metadata": {
    "colab": {
     "base_uri": "https://localhost:8080/",
     "height": 195
    },
    "execution": {
     "iopub.execute_input": "2021-02-10T15:26:47.005926Z",
     "iopub.status.busy": "2021-02-10T15:26:47.005247Z",
     "iopub.status.idle": "2021-02-10T15:26:47.010326Z",
     "shell.execute_reply": "2021-02-10T15:26:47.009833Z"
    },
    "id": "x_bAfvmnCrpn",
    "outputId": "a3d32b50-c81c-428c-cf5c-6e0c58bc4df1",
    "papermill": {
     "duration": 0.050425,
     "end_time": "2021-02-10T15:26:47.010461",
     "exception": false,
     "start_time": "2021-02-10T15:26:46.960036",
     "status": "completed"
    },
    "tags": []
   },
   "outputs": [
    {
     "data": {
      "text/html": [
       "<div>\n",
       "<style scoped>\n",
       "    .dataframe tbody tr th:only-of-type {\n",
       "        vertical-align: middle;\n",
       "    }\n",
       "\n",
       "    .dataframe tbody tr th {\n",
       "        vertical-align: top;\n",
       "    }\n",
       "\n",
       "    .dataframe thead th {\n",
       "        text-align: right;\n",
       "    }\n",
       "</style>\n",
       "<table border=\"1\" class=\"dataframe\">\n",
       "  <thead>\n",
       "    <tr style=\"text-align: right;\">\n",
       "      <th></th>\n",
       "      <th>UserName</th>\n",
       "      <th>ScreenName</th>\n",
       "      <th>Location</th>\n",
       "      <th>TweetAt</th>\n",
       "      <th>OriginalTweet</th>\n",
       "      <th>Sentiment</th>\n",
       "      <th>Identity</th>\n",
       "    </tr>\n",
       "  </thead>\n",
       "  <tbody>\n",
       "    <tr>\n",
       "      <th>0</th>\n",
       "      <td>3799</td>\n",
       "      <td>48751</td>\n",
       "      <td>London</td>\n",
       "      <td>16-03-2020</td>\n",
       "      <td>@MeNyrbie @Phil_Gahan @Chrisitv https://t.co/i...</td>\n",
       "      <td>Neutral</td>\n",
       "      <td>0</td>\n",
       "    </tr>\n",
       "    <tr>\n",
       "      <th>1</th>\n",
       "      <td>3800</td>\n",
       "      <td>48752</td>\n",
       "      <td>UK</td>\n",
       "      <td>16-03-2020</td>\n",
       "      <td>advice Talk to your neighbours family to excha...</td>\n",
       "      <td>Positive</td>\n",
       "      <td>0</td>\n",
       "    </tr>\n",
       "    <tr>\n",
       "      <th>2</th>\n",
       "      <td>3801</td>\n",
       "      <td>48753</td>\n",
       "      <td>Vagabonds</td>\n",
       "      <td>16-03-2020</td>\n",
       "      <td>Coronavirus Australia: Woolworths to give elde...</td>\n",
       "      <td>Positive</td>\n",
       "      <td>0</td>\n",
       "    </tr>\n",
       "    <tr>\n",
       "      <th>3</th>\n",
       "      <td>3802</td>\n",
       "      <td>48754</td>\n",
       "      <td>NaN</td>\n",
       "      <td>16-03-2020</td>\n",
       "      <td>My food stock is not the only one which is emp...</td>\n",
       "      <td>Positive</td>\n",
       "      <td>0</td>\n",
       "    </tr>\n",
       "    <tr>\n",
       "      <th>4</th>\n",
       "      <td>3803</td>\n",
       "      <td>48755</td>\n",
       "      <td>NaN</td>\n",
       "      <td>16-03-2020</td>\n",
       "      <td>Me, ready to go at supermarket during the #COV...</td>\n",
       "      <td>Extremely Negative</td>\n",
       "      <td>0</td>\n",
       "    </tr>\n",
       "  </tbody>\n",
       "</table>\n",
       "</div>"
      ],
      "text/plain": [
       "   UserName  ScreenName  ...           Sentiment Identity\n",
       "0      3799       48751  ...             Neutral        0\n",
       "1      3800       48752  ...            Positive        0\n",
       "2      3801       48753  ...            Positive        0\n",
       "3      3802       48754  ...            Positive        0\n",
       "4      3803       48755  ...  Extremely Negative        0\n",
       "\n",
       "[5 rows x 7 columns]"
      ]
     },
     "execution_count": 16,
     "metadata": {
      "tags": []
     },
     "output_type": "execute_result"
    }
   ],
   "source": [
    "covid.head()"
   ]
  },
  {
   "cell_type": "markdown",
   "metadata": {
    "id": "gaVptDYnCrpp",
    "papermill": {
     "duration": 0.033071,
     "end_time": "2021-02-10T15:26:47.077484",
     "exception": false,
     "start_time": "2021-02-10T15:26:47.044413",
     "status": "completed"
    },
    "tags": []
   },
   "source": [
    "The 5 sentiment categories are regrouped into 3 for easy data analysis"
   ]
  },
  {
   "cell_type": "code",
   "execution_count": 17,
   "metadata": {
    "execution": {
     "iopub.execute_input": "2021-02-10T15:26:47.155678Z",
     "iopub.status.busy": "2021-02-10T15:26:47.154676Z",
     "iopub.status.idle": "2021-02-10T15:26:47.210828Z",
     "shell.execute_reply": "2021-02-10T15:26:47.210103Z"
    },
    "id": "qfre6epKCrpq",
    "papermill": {
     "duration": 0.100024,
     "end_time": "2021-02-10T15:26:47.211018",
     "exception": false,
     "start_time": "2021-02-10T15:26:47.110994",
     "status": "completed"
    },
    "tags": []
   },
   "outputs": [],
   "source": [
    "covid['Sentiment'] = covid['Sentiment'].str.replace('Extremely Positive', 'Positive')\n",
    "covid['Sentiment'] = covid['Sentiment'].str.replace('Extremely Negative', 'Negative')"
   ]
  },
  {
   "cell_type": "code",
   "execution_count": 18,
   "metadata": {
    "colab": {
     "base_uri": "https://localhost:8080/",
     "height": 355
    },
    "execution": {
     "iopub.execute_input": "2021-02-10T15:26:47.314537Z",
     "iopub.status.busy": "2021-02-10T15:26:47.313931Z",
     "iopub.status.idle": "2021-02-10T15:26:47.505352Z",
     "shell.execute_reply": "2021-02-10T15:26:47.505826Z"
    },
    "id": "Xp6lrdWDCrps",
    "outputId": "935419dc-6d91-43de-e6bd-7b0f2236b797",
    "papermill": {
     "duration": 0.246636,
     "end_time": "2021-02-10T15:26:47.506020",
     "exception": false,
     "start_time": "2021-02-10T15:26:47.259384",
     "status": "completed"
    },
    "tags": []
   },
   "outputs": [
    {
     "name": "stderr",
     "output_type": "stream",
     "text": [
      "/usr/local/lib/python3.6/dist-packages/seaborn/_decorators.py:43: FutureWarning: Pass the following variable as a keyword arg: x. From version 0.12, the only valid positional argument will be `data`, and passing other arguments without an explicit keyword will result in an error or misinterpretation.\n",
      "  FutureWarning\n"
     ]
    },
    {
     "data": {
      "text/plain": [
       "<matplotlib.axes._subplots.AxesSubplot at 0x7f05fcaf2f28>"
      ]
     },
     "execution_count": 18,
     "metadata": {
      "tags": []
     },
     "output_type": "execute_result"
    },
    {
     "data": {
      "image/png": "[encoded data removed]",
      "text/plain": [
       "<Figure size 792x288 with 1 Axes>"
      ]
     },
     "metadata": {
      "tags": []
     },
     "output_type": "display_data"
    }
   ],
   "source": [
    "sns.set_style(\"whitegrid\")\n",
    "sns.set(rc={'figure.figsize':(11,4)})\n",
    "sns.countplot(covid['Sentiment'])"
   ]
  },
  {
   "cell_type": "code",
   "execution_count": 19,
   "metadata": {
    "colab": {
     "base_uri": "https://localhost:8080/",
     "height": 248
    },
    "execution": {
     "iopub.execute_input": "2021-02-10T15:26:47.579809Z",
     "iopub.status.busy": "2021-02-10T15:26:47.579090Z",
     "iopub.status.idle": "2021-02-10T15:26:47.676183Z",
     "shell.execute_reply": "2021-02-10T15:26:47.676634Z"
    },
    "id": "jKjOywCfCrpt",
    "outputId": "9e4a3cd5-c742-45a3-a813-a9c2fbc22baa",
    "papermill": {
     "duration": 0.135911,
     "end_time": "2021-02-10T15:26:47.676823",
     "exception": false,
     "start_time": "2021-02-10T15:26:47.540912",
     "status": "completed"
    },
    "tags": []
   },
   "outputs": [
    {
     "data": {
      "image/png": "[encoded data removed]",
      "text/plain": [
       "<Figure size 792x288 with 1 Axes>"
      ]
     },
     "metadata": {
      "tags": []
     },
     "output_type": "display_data"
    }
   ],
   "source": [
    "labels = ['Positve', 'Negative', 'Neutral']\n",
    "colors = ['lightblue','lightsteelblue','silver']\n",
    "explode = (0.1, 0.1, 0.1)\n",
    "plt.pie(covid.Sentiment.value_counts(), colors = colors, labels=labels,\n",
    "        shadow=300, autopct='%1.1f%%', startangle=90, explode = explode)\n",
    "plt.show()"
   ]
  },
  {
   "cell_type": "code",
   "execution_count": 20,
   "metadata": {
    "colab": {
     "base_uri": "https://localhost:8080/",
     "height": 644
    },
    "execution": {
     "iopub.execute_input": "2021-02-10T15:26:47.751526Z",
     "iopub.status.busy": "2021-02-10T15:26:47.750931Z",
     "iopub.status.idle": "2021-02-10T15:26:48.079550Z",
     "shell.execute_reply": "2021-02-10T15:26:48.080080Z"
    },
    "id": "ejlQgp7NCrpv",
    "outputId": "83ace3ae-4fd7-44bc-d8a1-7df5162d259a",
    "papermill": {
     "duration": 0.367807,
     "end_time": "2021-02-10T15:26:48.080265",
     "exception": false,
     "start_time": "2021-02-10T15:26:47.712458",
     "status": "completed"
    },
    "tags": []
   },
   "outputs": [
    {
     "data": {
      "text/plain": [
       "Text(0.5, 1.0, 'Twitted locations')"
      ]
     },
     "execution_count": 20,
     "metadata": {
      "tags": []
     },
     "output_type": "execute_result"
    },
    {
     "data": {
      "image/png": "[encoded data removed]",
      "text/plain": [
       "<Figure size 720x720 with 1 Axes>"
      ]
     },
     "metadata": {
      "tags": []
     },
     "output_type": "display_data"
    }
   ],
   "source": [
    "plt.figure(figsize=(10,10))\n",
    "sns.countplot(y='Location',data=train,order=train.Location.value_counts().iloc[\n",
    "    0:19].index).set_title(\"Twitted locations\")"
   ]
  },
  {
   "cell_type": "markdown",
   "metadata": {
    "id": "ouWYYSSECrpw",
    "papermill": {
     "duration": 0.036573,
     "end_time": "2021-02-10T15:26:48.154077",
     "exception": false,
     "start_time": "2021-02-10T15:26:48.117504",
     "status": "completed"
    },
    "tags": []
   },
   "source": [
    "The blank rows in the Location column are filled with Unknown"
   ]
  },
  {
   "cell_type": "code",
   "execution_count": 21,
   "metadata": {
    "execution": {
     "iopub.execute_input": "2021-02-10T15:26:48.232411Z",
     "iopub.status.busy": "2021-02-10T15:26:48.231437Z",
     "iopub.status.idle": "2021-02-10T15:26:48.241187Z",
     "shell.execute_reply": "2021-02-10T15:26:48.240644Z"
    },
    "id": "ruiDHoYOCrpx",
    "papermill": {
     "duration": 0.050133,
     "end_time": "2021-02-10T15:26:48.241344",
     "exception": false,
     "start_time": "2021-02-10T15:26:48.191211",
     "status": "completed"
    },
    "tags": []
   },
   "outputs": [],
   "source": [
    "covid['Location'].fillna('Unknown', inplace=True)"
   ]
  },
  {
   "cell_type": "code",
   "execution_count": 22,
   "metadata": {
    "colab": {
     "base_uri": "https://localhost:8080/"
    },
    "execution": {
     "iopub.execute_input": "2021-02-10T15:26:48.330758Z",
     "iopub.status.busy": "2021-02-10T15:26:48.329833Z",
     "iopub.status.idle": "2021-02-10T15:26:48.338374Z",
     "shell.execute_reply": "2021-02-10T15:26:48.337783Z"
    },
    "id": "dkt6gtqSCrpx",
    "outputId": "ac176ccd-034e-42c3-c25d-1a57eecf2620",
    "papermill": {
     "duration": 0.059762,
     "end_time": "2021-02-10T15:26:48.338519",
     "exception": false,
     "start_time": "2021-02-10T15:26:48.278757",
     "status": "completed"
    },
    "tags": []
   },
   "outputs": [
    {
     "data": {
      "text/plain": [
       "UserName         0\n",
       "ScreenName       0\n",
       "Location         0\n",
       "TweetAt          0\n",
       "OriginalTweet    0\n",
       "Sentiment        0\n",
       "Identity         0\n",
       "dtype: int64"
      ]
     },
     "execution_count": 22,
     "metadata": {
      "tags": []
     },
     "output_type": "execute_result"
    }
   ],
   "source": [
    "covid.isnull().sum()"
   ]
  },
  {
   "cell_type": "markdown",
   "metadata": {
    "id": "-NTjxS0dCrpz",
    "papermill": {
     "duration": 0.036765,
     "end_time": "2021-02-10T15:26:48.412522",
     "exception": false,
     "start_time": "2021-02-10T15:26:48.375757",
     "status": "completed"
    },
    "tags": []
   },
   "source": [
    "The sentiment categories are remapped into three so that the classifiers will be more accurate.\n",
    "\n",
    "Neutral: 0, Positive: 1, Negative: 2"
   ]
  },
  {
   "cell_type": "code",
   "execution_count": 23,
   "metadata": {
    "execution": {
     "iopub.execute_input": "2021-02-10T15:26:48.489542Z",
     "iopub.status.busy": "2021-02-10T15:26:48.488990Z",
     "iopub.status.idle": "2021-02-10T15:26:48.499428Z",
     "shell.execute_reply": "2021-02-10T15:26:48.499867Z"
    },
    "id": "aIIzNcFFCrpz",
    "papermill": {
     "duration": 0.050837,
     "end_time": "2021-02-10T15:26:48.500043",
     "exception": false,
     "start_time": "2021-02-10T15:26:48.449206",
     "status": "completed"
    },
    "tags": []
   },
   "outputs": [],
   "source": [
    "covid['Sentiment'] = covid['Sentiment'].map({'Neutral':0, 'Positive':1, 'Negative':2})"
   ]
  },
  {
   "cell_type": "markdown",
   "metadata": {
    "id": "jkvPRtkYCrp0",
    "papermill": {
     "duration": 0.036836,
     "end_time": "2021-02-10T15:26:48.573872",
     "exception": false,
     "start_time": "2021-02-10T15:26:48.537036",
     "status": "completed"
    },
    "tags": []
   },
   "source": [
    "The screen and username columns are dropped since they'll have no effect on the accuracy of the model."
   ]
  },
  {
   "cell_type": "code",
   "execution_count": 24,
   "metadata": {
    "colab": {
     "base_uri": "https://localhost:8080/",
     "height": 402
    },
    "execution": {
     "iopub.execute_input": "2021-02-10T15:26:48.651436Z",
     "iopub.status.busy": "2021-02-10T15:26:48.650863Z",
     "iopub.status.idle": "2021-02-10T15:26:48.673005Z",
     "shell.execute_reply": "2021-02-10T15:26:48.673490Z"
    },
    "id": "_swTyFafCrp1",
    "outputId": "ce5a8d0a-a66a-4ac0-8659-e2876f909d62",
    "papermill": {
     "duration": 0.062876,
     "end_time": "2021-02-10T15:26:48.673699",
     "exception": false,
     "start_time": "2021-02-10T15:26:48.610823",
     "status": "completed"
    },
    "tags": []
   },
   "outputs": [
    {
     "data": {
      "text/html": [
       "<div>\n",
       "<style scoped>\n",
       "    .dataframe tbody tr th:only-of-type {\n",
       "        vertical-align: middle;\n",
       "    }\n",
       "\n",
       "    .dataframe tbody tr th {\n",
       "        vertical-align: top;\n",
       "    }\n",
       "\n",
       "    .dataframe thead th {\n",
       "        text-align: right;\n",
       "    }\n",
       "</style>\n",
       "<table border=\"1\" class=\"dataframe\">\n",
       "  <thead>\n",
       "    <tr style=\"text-align: right;\">\n",
       "      <th></th>\n",
       "      <th>Location</th>\n",
       "      <th>TweetAt</th>\n",
       "      <th>OriginalTweet</th>\n",
       "      <th>Sentiment</th>\n",
       "      <th>Identity</th>\n",
       "    </tr>\n",
       "  </thead>\n",
       "  <tbody>\n",
       "    <tr>\n",
       "      <th>0</th>\n",
       "      <td>London</td>\n",
       "      <td>16-03-2020</td>\n",
       "      <td>@MeNyrbie @Phil_Gahan @Chrisitv https://t.co/i...</td>\n",
       "      <td>0</td>\n",
       "      <td>0</td>\n",
       "    </tr>\n",
       "    <tr>\n",
       "      <th>1</th>\n",
       "      <td>UK</td>\n",
       "      <td>16-03-2020</td>\n",
       "      <td>advice Talk to your neighbours family to excha...</td>\n",
       "      <td>1</td>\n",
       "      <td>0</td>\n",
       "    </tr>\n",
       "    <tr>\n",
       "      <th>2</th>\n",
       "      <td>Vagabonds</td>\n",
       "      <td>16-03-2020</td>\n",
       "      <td>Coronavirus Australia: Woolworths to give elde...</td>\n",
       "      <td>1</td>\n",
       "      <td>0</td>\n",
       "    </tr>\n",
       "    <tr>\n",
       "      <th>3</th>\n",
       "      <td>Unknown</td>\n",
       "      <td>16-03-2020</td>\n",
       "      <td>My food stock is not the only one which is emp...</td>\n",
       "      <td>1</td>\n",
       "      <td>0</td>\n",
       "    </tr>\n",
       "    <tr>\n",
       "      <th>4</th>\n",
       "      <td>Unknown</td>\n",
       "      <td>16-03-2020</td>\n",
       "      <td>Me, ready to go at supermarket during the #COV...</td>\n",
       "      <td>2</td>\n",
       "      <td>0</td>\n",
       "    </tr>\n",
       "    <tr>\n",
       "      <th>...</th>\n",
       "      <td>...</td>\n",
       "      <td>...</td>\n",
       "      <td>...</td>\n",
       "      <td>...</td>\n",
       "      <td>...</td>\n",
       "    </tr>\n",
       "    <tr>\n",
       "      <th>44950</th>\n",
       "      <td>Israel ??</td>\n",
       "      <td>16-03-2020</td>\n",
       "      <td>Meanwhile In A Supermarket in Israel -- People...</td>\n",
       "      <td>1</td>\n",
       "      <td>1</td>\n",
       "    </tr>\n",
       "    <tr>\n",
       "      <th>44951</th>\n",
       "      <td>Farmington, NM</td>\n",
       "      <td>16-03-2020</td>\n",
       "      <td>Did you panic buy a lot of non-perishable item...</td>\n",
       "      <td>2</td>\n",
       "      <td>1</td>\n",
       "    </tr>\n",
       "    <tr>\n",
       "      <th>44952</th>\n",
       "      <td>Haverford, PA</td>\n",
       "      <td>16-03-2020</td>\n",
       "      <td>Asst Prof of Economics @cconces was on @NBCPhi...</td>\n",
       "      <td>0</td>\n",
       "      <td>1</td>\n",
       "    </tr>\n",
       "    <tr>\n",
       "      <th>44953</th>\n",
       "      <td>Unknown</td>\n",
       "      <td>16-03-2020</td>\n",
       "      <td>Gov need to do somethings instead of biar je r...</td>\n",
       "      <td>2</td>\n",
       "      <td>1</td>\n",
       "    </tr>\n",
       "    <tr>\n",
       "      <th>44954</th>\n",
       "      <td>Arlington, Virginia</td>\n",
       "      <td>16-03-2020</td>\n",
       "      <td>I and @ForestandPaper members are committed to...</td>\n",
       "      <td>1</td>\n",
       "      <td>1</td>\n",
       "    </tr>\n",
       "  </tbody>\n",
       "</table>\n",
       "<p>44955 rows × 5 columns</p>\n",
       "</div>"
      ],
      "text/plain": [
       "                  Location     TweetAt  ... Sentiment  Identity\n",
       "0                   London  16-03-2020  ...         0         0\n",
       "1                       UK  16-03-2020  ...         1         0\n",
       "2                Vagabonds  16-03-2020  ...         1         0\n",
       "3                  Unknown  16-03-2020  ...         1         0\n",
       "4                  Unknown  16-03-2020  ...         2         0\n",
       "...                    ...         ...  ...       ...       ...\n",
       "44950            Israel ??  16-03-2020  ...         1         1\n",
       "44951       Farmington, NM  16-03-2020  ...         2         1\n",
       "44952        Haverford, PA  16-03-2020  ...         0         1\n",
       "44953              Unknown  16-03-2020  ...         2         1\n",
       "44954  Arlington, Virginia  16-03-2020  ...         1         1\n",
       "\n",
       "[44955 rows x 5 columns]"
      ]
     },
     "execution_count": 24,
     "metadata": {
      "tags": []
     },
     "output_type": "execute_result"
    }
   ],
   "source": [
    "covid = covid.drop('ScreenName', axis=1)\n",
    "covid = covid.drop('UserName', axis=1)\n",
    "covid"
   ]
  },
  {
   "cell_type": "markdown",
   "metadata": {
    "id": "h_U09uGPCrp2",
    "papermill": {
     "duration": 0.038948,
     "end_time": "2021-02-10T15:26:48.751111",
     "exception": false,
     "start_time": "2021-02-10T15:26:48.712163",
     "status": "completed"
    },
    "tags": []
   },
   "source": [
    "A python regex function to clean the tweets by removing hashtags, mentions, urls, digits and to remove stop words."
   ]
  },
  {
   "cell_type": "code",
   "execution_count": 25,
   "metadata": {
    "execution": {
     "iopub.execute_input": "2021-02-10T15:26:48.831605Z",
     "iopub.status.busy": "2021-02-10T15:26:48.830937Z",
     "iopub.status.idle": "2021-02-10T15:26:48.836190Z",
     "shell.execute_reply": "2021-02-10T15:26:48.836638Z"
    },
    "id": "mhsohVP-Crp3",
    "papermill": {
     "duration": 0.047672,
     "end_time": "2021-02-10T15:26:48.836912",
     "exception": false,
     "start_time": "2021-02-10T15:26:48.789240",
     "status": "completed"
    },
    "tags": []
   },
   "outputs": [],
   "source": [
    "import re\n",
    "\n",
    "def clean(text):\n",
    "    text = re.sub(r'http\\S+', \" \", text)\n",
    "    text = re.sub(r'@\\w+',' ',text)\n",
    "    text = re.sub(r'#\\w+', ' ', text)\n",
    "    text = re.sub(r'\\d+', ' ', text)\n",
    "    text = re.sub('r<.*?>',' ', text)\n",
    "    text = text.split()\n",
    "    text = \" \".join([word for word in text if not word in stopWord])\n",
    "    \n",
    "    return text"
   ]
  },
  {
   "cell_type": "code",
   "execution_count": 26,
   "metadata": {
    "execution": {
     "iopub.execute_input": "2021-02-10T15:26:48.917903Z",
     "iopub.status.busy": "2021-02-10T15:26:48.917009Z",
     "iopub.status.idle": "2021-02-10T15:26:49.737799Z",
     "shell.execute_reply": "2021-02-10T15:26:49.737011Z"
    },
    "id": "7ZwkcSDoCrp5",
    "papermill": {
     "duration": 0.862601,
     "end_time": "2021-02-10T15:26:49.737969",
     "exception": false,
     "start_time": "2021-02-10T15:26:48.875368",
     "status": "completed"
    },
    "tags": []
   },
   "outputs": [],
   "source": [
    "import nltk\n",
    "from nltk.corpus import stopwords\n",
    "from nltk.stem.porter import PorterStemmer\n",
    "from nltk.stem import WordNetLemmatizer\n",
    "from nltk.tokenize import word_tokenize,sent_tokenize"
   ]
  },
  {
   "cell_type": "code",
   "execution_count": 28,
   "metadata": {
    "colab": {
     "base_uri": "https://localhost:8080/"
    },
    "id": "9znn1Bx_GJNO",
    "outputId": "d2dfedd2-bb96-4fb3-85d3-9c0a5a40a3dc"
   },
   "outputs": [
    {
     "name": "stdout",
     "output_type": "stream",
     "text": [
      "[nltk_data] Downloading package stopwords to /root/nltk_data...\n",
      "[nltk_data]   Unzipping corpora/stopwords.zip.\n"
     ]
    },
    {
     "data": {
      "text/plain": [
       "True"
      ]
     },
     "execution_count": 28,
     "metadata": {
      "tags": []
     },
     "output_type": "execute_result"
    }
   ],
   "source": [
    "import nltk\n",
    "nltk.download('stopwords')"
   ]
  },
  {
   "cell_type": "code",
   "execution_count": 29,
   "metadata": {
    "execution": {
     "iopub.execute_input": "2021-02-10T15:26:49.825791Z",
     "iopub.status.busy": "2021-02-10T15:26:49.825068Z",
     "iopub.status.idle": "2021-02-10T15:26:49.834342Z",
     "shell.execute_reply": "2021-02-10T15:26:49.833819Z"
    },
    "id": "Qx9Vm43ZCrp7",
    "papermill": {
     "duration": 0.05658,
     "end_time": "2021-02-10T15:26:49.834481",
     "exception": false,
     "start_time": "2021-02-10T15:26:49.777901",
     "status": "completed"
    },
    "tags": []
   },
   "outputs": [],
   "source": [
    "stopWord = stopwords.words('english')"
   ]
  },
  {
   "cell_type": "code",
   "execution_count": 30,
   "metadata": {
    "execution": {
     "iopub.execute_input": "2021-02-10T15:26:49.916509Z",
     "iopub.status.busy": "2021-02-10T15:26:49.915552Z",
     "iopub.status.idle": "2021-02-10T15:26:52.522242Z",
     "shell.execute_reply": "2021-02-10T15:26:52.522691Z"
    },
    "id": "TLqFGQIYCrp8",
    "papermill": {
     "duration": 2.648838,
     "end_time": "2021-02-10T15:26:52.522872",
     "exception": false,
     "start_time": "2021-02-10T15:26:49.874034",
     "status": "completed"
    },
    "tags": []
   },
   "outputs": [],
   "source": [
    "covid['OriginalTweet'] = covid['OriginalTweet'].apply(lambda x: clean(x))"
   ]
  },
  {
   "cell_type": "code",
   "execution_count": 31,
   "metadata": {
    "colab": {
     "base_uri": "https://localhost:8080/",
     "height": 195
    },
    "execution": {
     "iopub.execute_input": "2021-02-10T15:26:52.603529Z",
     "iopub.status.busy": "2021-02-10T15:26:52.602663Z",
     "iopub.status.idle": "2021-02-10T15:26:52.614084Z",
     "shell.execute_reply": "2021-02-10T15:26:52.613545Z"
    },
    "id": "bo2rD2AvCrp9",
    "outputId": "c7e623b9-53cb-47bf-f3bd-4adcdfdd97f2",
    "papermill": {
     "duration": 0.052885,
     "end_time": "2021-02-10T15:26:52.614223",
     "exception": false,
     "start_time": "2021-02-10T15:26:52.561338",
     "status": "completed"
    },
    "tags": []
   },
   "outputs": [
    {
     "data": {
      "text/html": [
       "<div>\n",
       "<style scoped>\n",
       "    .dataframe tbody tr th:only-of-type {\n",
       "        vertical-align: middle;\n",
       "    }\n",
       "\n",
       "    .dataframe tbody tr th {\n",
       "        vertical-align: top;\n",
       "    }\n",
       "\n",
       "    .dataframe thead th {\n",
       "        text-align: right;\n",
       "    }\n",
       "</style>\n",
       "<table border=\"1\" class=\"dataframe\">\n",
       "  <thead>\n",
       "    <tr style=\"text-align: right;\">\n",
       "      <th></th>\n",
       "      <th>Location</th>\n",
       "      <th>TweetAt</th>\n",
       "      <th>OriginalTweet</th>\n",
       "      <th>Sentiment</th>\n",
       "      <th>Identity</th>\n",
       "    </tr>\n",
       "  </thead>\n",
       "  <tbody>\n",
       "    <tr>\n",
       "      <th>0</th>\n",
       "      <td>London</td>\n",
       "      <td>16-03-2020</td>\n",
       "      <td></td>\n",
       "      <td>0</td>\n",
       "      <td>0</td>\n",
       "    </tr>\n",
       "    <tr>\n",
       "      <th>1</th>\n",
       "      <td>UK</td>\n",
       "      <td>16-03-2020</td>\n",
       "      <td>advice Talk neighbours family exchange phone n...</td>\n",
       "      <td>1</td>\n",
       "      <td>0</td>\n",
       "    </tr>\n",
       "    <tr>\n",
       "      <th>2</th>\n",
       "      <td>Vagabonds</td>\n",
       "      <td>16-03-2020</td>\n",
       "      <td>Coronavirus Australia: Woolworths give elderly...</td>\n",
       "      <td>1</td>\n",
       "      <td>0</td>\n",
       "    </tr>\n",
       "    <tr>\n",
       "      <th>3</th>\n",
       "      <td>Unknown</td>\n",
       "      <td>16-03-2020</td>\n",
       "      <td>My food stock one empty... PLEASE, panic, THER...</td>\n",
       "      <td>1</td>\n",
       "      <td>0</td>\n",
       "    </tr>\n",
       "    <tr>\n",
       "      <th>4</th>\n",
       "      <td>Unknown</td>\n",
       "      <td>16-03-2020</td>\n",
       "      <td>Me, ready go supermarket outbreak. Not I'm par...</td>\n",
       "      <td>2</td>\n",
       "      <td>0</td>\n",
       "    </tr>\n",
       "  </tbody>\n",
       "</table>\n",
       "</div>"
      ],
      "text/plain": [
       "    Location     TweetAt  ... Sentiment  Identity\n",
       "0     London  16-03-2020  ...         0         0\n",
       "1         UK  16-03-2020  ...         1         0\n",
       "2  Vagabonds  16-03-2020  ...         1         0\n",
       "3    Unknown  16-03-2020  ...         1         0\n",
       "4    Unknown  16-03-2020  ...         2         0\n",
       "\n",
       "[5 rows x 5 columns]"
      ]
     },
     "execution_count": 31,
     "metadata": {
      "tags": []
     },
     "output_type": "execute_result"
    }
   ],
   "source": [
    "covid.head()"
   ]
  },
  {
   "cell_type": "markdown",
   "metadata": {
    "id": "I1PbvSkdCrp-",
    "papermill": {
     "duration": 0.039234,
     "end_time": "2021-02-10T15:26:52.692889",
     "exception": false,
     "start_time": "2021-02-10T15:26:52.653655",
     "status": "completed"
    },
    "tags": []
   },
   "source": [
    "Features not needed for the predictions are dropped"
   ]
  },
  {
   "cell_type": "code",
   "execution_count": 32,
   "metadata": {
    "colab": {
     "base_uri": "https://localhost:8080/",
     "height": 195
    },
    "execution": {
     "iopub.execute_input": "2021-02-10T15:26:52.781395Z",
     "iopub.status.busy": "2021-02-10T15:26:52.780748Z",
     "iopub.status.idle": "2021-02-10T15:26:52.786542Z",
     "shell.execute_reply": "2021-02-10T15:26:52.787063Z"
    },
    "id": "8dB8MIghCrp_",
    "outputId": "13d99487-32e5-4664-c1b9-902205940032",
    "papermill": {
     "duration": 0.054716,
     "end_time": "2021-02-10T15:26:52.787235",
     "exception": false,
     "start_time": "2021-02-10T15:26:52.732519",
     "status": "completed"
    },
    "tags": []
   },
   "outputs": [
    {
     "data": {
      "text/html": [
       "<div>\n",
       "<style scoped>\n",
       "    .dataframe tbody tr th:only-of-type {\n",
       "        vertical-align: middle;\n",
       "    }\n",
       "\n",
       "    .dataframe tbody tr th {\n",
       "        vertical-align: top;\n",
       "    }\n",
       "\n",
       "    .dataframe thead th {\n",
       "        text-align: right;\n",
       "    }\n",
       "</style>\n",
       "<table border=\"1\" class=\"dataframe\">\n",
       "  <thead>\n",
       "    <tr style=\"text-align: right;\">\n",
       "      <th></th>\n",
       "      <th>OriginalTweet</th>\n",
       "      <th>Sentiment</th>\n",
       "      <th>Identity</th>\n",
       "    </tr>\n",
       "  </thead>\n",
       "  <tbody>\n",
       "    <tr>\n",
       "      <th>0</th>\n",
       "      <td></td>\n",
       "      <td>0</td>\n",
       "      <td>0</td>\n",
       "    </tr>\n",
       "    <tr>\n",
       "      <th>1</th>\n",
       "      <td>advice Talk neighbours family exchange phone n...</td>\n",
       "      <td>1</td>\n",
       "      <td>0</td>\n",
       "    </tr>\n",
       "    <tr>\n",
       "      <th>2</th>\n",
       "      <td>Coronavirus Australia: Woolworths give elderly...</td>\n",
       "      <td>1</td>\n",
       "      <td>0</td>\n",
       "    </tr>\n",
       "    <tr>\n",
       "      <th>3</th>\n",
       "      <td>My food stock one empty... PLEASE, panic, THER...</td>\n",
       "      <td>1</td>\n",
       "      <td>0</td>\n",
       "    </tr>\n",
       "    <tr>\n",
       "      <th>4</th>\n",
       "      <td>Me, ready go supermarket outbreak. Not I'm par...</td>\n",
       "      <td>2</td>\n",
       "      <td>0</td>\n",
       "    </tr>\n",
       "  </tbody>\n",
       "</table>\n",
       "</div>"
      ],
      "text/plain": [
       "                                       OriginalTweet  Sentiment  Identity\n",
       "0                                                             0         0\n",
       "1  advice Talk neighbours family exchange phone n...          1         0\n",
       "2  Coronavirus Australia: Woolworths give elderly...          1         0\n",
       "3  My food stock one empty... PLEASE, panic, THER...          1         0\n",
       "4  Me, ready go supermarket outbreak. Not I'm par...          2         0"
      ]
     },
     "execution_count": 32,
     "metadata": {
      "tags": []
     },
     "output_type": "execute_result"
    }
   ],
   "source": [
    "covid = covid[['OriginalTweet','Sentiment','Identity']]\n",
    "covid.head()"
   ]
  },
  {
   "cell_type": "code",
   "execution_count": 33,
   "metadata": {
    "execution": {
     "iopub.execute_input": "2021-02-10T15:26:52.869156Z",
     "iopub.status.busy": "2021-02-10T15:26:52.868518Z",
     "iopub.status.idle": "2021-02-10T15:26:52.873497Z",
     "shell.execute_reply": "2021-02-10T15:26:52.872915Z"
    },
    "id": "F6Pi-UjcCrqA",
    "papermill": {
     "duration": 0.047327,
     "end_time": "2021-02-10T15:26:52.873647",
     "exception": false,
     "start_time": "2021-02-10T15:26:52.826320",
     "status": "completed"
    },
    "tags": []
   },
   "outputs": [],
   "source": [
    "from sklearn.feature_extraction.text import CountVectorizer\n",
    "from sklearn.model_selection import train_test_split, cross_val_score\n",
    "from sklearn.linear_model import LogisticRegression\n",
    "from sklearn.metrics import classification_report"
   ]
  },
  {
   "cell_type": "markdown",
   "metadata": {
    "id": "Jb8zwKNICrqB",
    "papermill": {
     "duration": 0.039466,
     "end_time": "2021-02-10T15:26:52.952699",
     "exception": false,
     "start_time": "2021-02-10T15:26:52.913233",
     "status": "completed"
    },
    "tags": []
   },
   "source": [
    "Machine learning models finds statistical relations, therefore the data is tokenized and vectorized as part of the data preprocessing step."
   ]
  },
  {
   "cell_type": "code",
   "execution_count": 35,
   "metadata": {
    "colab": {
     "base_uri": "https://localhost:8080/"
    },
    "id": "4jbgcTgxGXoi",
    "outputId": "1fa7e56f-8095-4bb3-b60d-a8d692b46ccd"
   },
   "outputs": [
    {
     "name": "stdout",
     "output_type": "stream",
     "text": [
      "[nltk_data] Downloading package punkt to /root/nltk_data...\n",
      "[nltk_data]   Unzipping tokenizers/punkt.zip.\n"
     ]
    },
    {
     "data": {
      "text/plain": [
       "True"
      ]
     },
     "execution_count": 35,
     "metadata": {
      "tags": []
     },
     "output_type": "execute_result"
    }
   ],
   "source": [
    "import nltk\n",
    "nltk.download('punkt')"
   ]
  },
  {
   "cell_type": "code",
   "execution_count": 37,
   "metadata": {
    "colab": {
     "base_uri": "https://localhost:8080/"
    },
    "id": "OncjVmrOGgtW",
    "outputId": "a3aa79ed-05d2-49c5-a2f4-d880fe6f0f45"
   },
   "outputs": [
    {
     "name": "stdout",
     "output_type": "stream",
     "text": [
      "[nltk_data] Downloading package wordnet to /root/nltk_data...\n",
      "[nltk_data]   Unzipping corpora/wordnet.zip.\n"
     ]
    },
    {
     "data": {
      "text/plain": [
       "True"
      ]
     },
     "execution_count": 37,
     "metadata": {
      "tags": []
     },
     "output_type": "execute_result"
    }
   ],
   "source": [
    "import nltk\n",
    "nltk.download('wordnet')\n",
    "  "
   ]
  },
  {
   "cell_type": "code",
   "execution_count": 38,
   "metadata": {
    "colab": {
     "base_uri": "https://localhost:8080/"
    },
    "execution": {
     "iopub.execute_input": "2021-02-10T15:26:53.040055Z",
     "iopub.status.busy": "2021-02-10T15:26:53.039332Z",
     "iopub.status.idle": "2021-02-10T15:27:10.155301Z",
     "shell.execute_reply": "2021-02-10T15:27:10.154591Z"
    },
    "id": "-ntLkkTuCrqC",
    "outputId": "cde86cff-05f8-4bd1-8920-4522f61809c6",
    "papermill": {
     "duration": 17.16283,
     "end_time": "2021-02-10T15:27:10.155451",
     "exception": false,
     "start_time": "2021-02-10T15:26:52.992621",
     "status": "completed"
    },
    "tags": []
   },
   "outputs": [
    {
     "name": "stderr",
     "output_type": "stream",
     "text": [
      "/usr/local/lib/python3.6/dist-packages/ipykernel_launcher.py:1: SettingWithCopyWarning: \n",
      "A value is trying to be set on a copy of a slice from a DataFrame.\n",
      "Try using .loc[row_indexer,col_indexer] = value instead\n",
      "\n",
      "See the caveats in the documentation: https://pandas.pydata.org/pandas-docs/stable/user_guide/indexing.html#returning-a-view-versus-a-copy\n",
      "  \"\"\"Entry point for launching an IPython kernel.\n",
      "/usr/local/lib/python3.6/dist-packages/pandas/core/generic.py:5170: SettingWithCopyWarning: \n",
      "A value is trying to be set on a copy of a slice from a DataFrame.\n",
      "Try using .loc[row_indexer,col_indexer] = value instead\n",
      "\n",
      "See the caveats in the documentation: https://pandas.pydata.org/pandas-docs/stable/user_guide/indexing.html#returning-a-view-versus-a-copy\n",
      "  self[name] = value\n"
     ]
    }
   ],
   "source": [
    "covid['Corpus'] = [nltk.word_tokenize(text) for text in covid.OriginalTweet]\n",
    "lemma = nltk.WordNetLemmatizer()\n",
    "covid.Corpus = covid.apply(lambda x: [lemma.lemmatize(word) for word in x.Corpus], axis=1)\n",
    "covid.Corpus = covid.apply(lambda x: \" \".join(x.Corpus),axis=1)"
   ]
  },
  {
   "cell_type": "markdown",
   "metadata": {
    "id": "gOLKoSJjCrqD",
    "papermill": {
     "duration": 0.041124,
     "end_time": "2021-02-10T15:27:10.237909",
     "exception": false,
     "start_time": "2021-02-10T15:27:10.196785",
     "status": "completed"
    },
    "tags": []
   },
   "source": [
    "The data sets are splitted back into train and test set"
   ]
  },
  {
   "cell_type": "code",
   "execution_count": 39,
   "metadata": {
    "colab": {
     "base_uri": "https://localhost:8080/"
    },
    "execution": {
     "iopub.execute_input": "2021-02-10T15:27:10.325525Z",
     "iopub.status.busy": "2021-02-10T15:27:10.324645Z",
     "iopub.status.idle": "2021-02-10T15:27:10.364163Z",
     "shell.execute_reply": "2021-02-10T15:27:10.363059Z"
    },
    "id": "3PRHwMJlCrqE",
    "outputId": "22e09886-e600-41de-f940-505c8ebcf6a0",
    "papermill": {
     "duration": 0.085749,
     "end_time": "2021-02-10T15:27:10.364387",
     "exception": false,
     "start_time": "2021-02-10T15:27:10.278638",
     "status": "completed"
    },
    "tags": []
   },
   "outputs": [
    {
     "name": "stderr",
     "output_type": "stream",
     "text": [
      "/usr/local/lib/python3.6/dist-packages/pandas/core/frame.py:4174: SettingWithCopyWarning: \n",
      "A value is trying to be set on a copy of a slice from a DataFrame\n",
      "\n",
      "See the caveats in the documentation: https://pandas.pydata.org/pandas-docs/stable/user_guide/indexing.html#returning-a-view-versus-a-copy\n",
      "  errors=errors,\n"
     ]
    }
   ],
   "source": [
    "train = covid[covid.Identity==0]\n",
    "test = covid[covid.Identity==1]\n",
    "train.drop('Identity',axis=1, inplace=True)\n",
    "test.drop('Identity',axis=1, inplace=True)\n",
    "test.reset_index(drop=True,inplace=True)"
   ]
  },
  {
   "cell_type": "code",
   "execution_count": 40,
   "metadata": {
    "colab": {
     "base_uri": "https://localhost:8080/",
     "height": 195
    },
    "execution": {
     "iopub.execute_input": "2021-02-10T15:27:10.459404Z",
     "iopub.status.busy": "2021-02-10T15:27:10.458596Z",
     "iopub.status.idle": "2021-02-10T15:27:10.463325Z",
     "shell.execute_reply": "2021-02-10T15:27:10.462842Z"
    },
    "id": "b0k3hdCLCrqF",
    "outputId": "ac920bf7-bd36-4ecb-882d-a70bc4d3787c",
    "papermill": {
     "duration": 0.056068,
     "end_time": "2021-02-10T15:27:10.463461",
     "exception": false,
     "start_time": "2021-02-10T15:27:10.407393",
     "status": "completed"
    },
    "tags": []
   },
   "outputs": [
    {
     "data": {
      "text/html": [
       "<div>\n",
       "<style scoped>\n",
       "    .dataframe tbody tr th:only-of-type {\n",
       "        vertical-align: middle;\n",
       "    }\n",
       "\n",
       "    .dataframe tbody tr th {\n",
       "        vertical-align: top;\n",
       "    }\n",
       "\n",
       "    .dataframe thead th {\n",
       "        text-align: right;\n",
       "    }\n",
       "</style>\n",
       "<table border=\"1\" class=\"dataframe\">\n",
       "  <thead>\n",
       "    <tr style=\"text-align: right;\">\n",
       "      <th></th>\n",
       "      <th>OriginalTweet</th>\n",
       "      <th>Sentiment</th>\n",
       "      <th>Corpus</th>\n",
       "    </tr>\n",
       "  </thead>\n",
       "  <tbody>\n",
       "    <tr>\n",
       "      <th>0</th>\n",
       "      <td></td>\n",
       "      <td>0</td>\n",
       "      <td></td>\n",
       "    </tr>\n",
       "    <tr>\n",
       "      <th>1</th>\n",
       "      <td>advice Talk neighbours family exchange phone n...</td>\n",
       "      <td>1</td>\n",
       "      <td>advice Talk neighbour family exchange phone nu...</td>\n",
       "    </tr>\n",
       "    <tr>\n",
       "      <th>2</th>\n",
       "      <td>Coronavirus Australia: Woolworths give elderly...</td>\n",
       "      <td>1</td>\n",
       "      <td>Coronavirus Australia : Woolworths give elderl...</td>\n",
       "    </tr>\n",
       "    <tr>\n",
       "      <th>3</th>\n",
       "      <td>My food stock one empty... PLEASE, panic, THER...</td>\n",
       "      <td>1</td>\n",
       "      <td>My food stock one empty ... PLEASE , panic , T...</td>\n",
       "    </tr>\n",
       "    <tr>\n",
       "      <th>4</th>\n",
       "      <td>Me, ready go supermarket outbreak. Not I'm par...</td>\n",
       "      <td>2</td>\n",
       "      <td>Me , ready go supermarket outbreak . Not I 'm ...</td>\n",
       "    </tr>\n",
       "  </tbody>\n",
       "</table>\n",
       "</div>"
      ],
      "text/plain": [
       "                                       OriginalTweet  ...                                             Corpus\n",
       "0                                                     ...                                                   \n",
       "1  advice Talk neighbours family exchange phone n...  ...  advice Talk neighbour family exchange phone nu...\n",
       "2  Coronavirus Australia: Woolworths give elderly...  ...  Coronavirus Australia : Woolworths give elderl...\n",
       "3  My food stock one empty... PLEASE, panic, THER...  ...  My food stock one empty ... PLEASE , panic , T...\n",
       "4  Me, ready go supermarket outbreak. Not I'm par...  ...  Me , ready go supermarket outbreak . Not I 'm ...\n",
       "\n",
       "[5 rows x 3 columns]"
      ]
     },
     "execution_count": 40,
     "metadata": {
      "tags": []
     },
     "output_type": "execute_result"
    }
   ],
   "source": [
    "train.head()"
   ]
  },
  {
   "cell_type": "code",
   "execution_count": 41,
   "metadata": {
    "colab": {
     "base_uri": "https://localhost:8080/",
     "height": 195
    },
    "execution": {
     "iopub.execute_input": "2021-02-10T15:27:10.557539Z",
     "iopub.status.busy": "2021-02-10T15:27:10.556825Z",
     "iopub.status.idle": "2021-02-10T15:27:10.560851Z",
     "shell.execute_reply": "2021-02-10T15:27:10.560326Z"
    },
    "id": "IKiNQcHVCrqG",
    "outputId": "596ef5ae-8950-4f18-eb33-4b58156c43c1",
    "papermill": {
     "duration": 0.056007,
     "end_time": "2021-02-10T15:27:10.561003",
     "exception": false,
     "start_time": "2021-02-10T15:27:10.504996",
     "status": "completed"
    },
    "tags": []
   },
   "outputs": [
    {
     "data": {
      "text/html": [
       "<div>\n",
       "<style scoped>\n",
       "    .dataframe tbody tr th:only-of-type {\n",
       "        vertical-align: middle;\n",
       "    }\n",
       "\n",
       "    .dataframe tbody tr th {\n",
       "        vertical-align: top;\n",
       "    }\n",
       "\n",
       "    .dataframe thead th {\n",
       "        text-align: right;\n",
       "    }\n",
       "</style>\n",
       "<table border=\"1\" class=\"dataframe\">\n",
       "  <thead>\n",
       "    <tr style=\"text-align: right;\">\n",
       "      <th></th>\n",
       "      <th>OriginalTweet</th>\n",
       "      <th>Sentiment</th>\n",
       "      <th>Corpus</th>\n",
       "    </tr>\n",
       "  </thead>\n",
       "  <tbody>\n",
       "    <tr>\n",
       "      <th>0</th>\n",
       "      <td>TRENDING: New Yorkers encounter empty supermar...</td>\n",
       "      <td>2</td>\n",
       "      <td>TRENDING : New Yorkers encounter empty superma...</td>\n",
       "    </tr>\n",
       "    <tr>\n",
       "      <th>1</th>\n",
       "      <td>When I find hand sanitizer Fred Meyer, I turne...</td>\n",
       "      <td>1</td>\n",
       "      <td>When I find hand sanitizer Fred Meyer , I turn...</td>\n",
       "    </tr>\n",
       "    <tr>\n",
       "      <th>2</th>\n",
       "      <td>Find protect loved ones . ?</td>\n",
       "      <td>1</td>\n",
       "      <td>Find protect loved one . ?</td>\n",
       "    </tr>\n",
       "    <tr>\n",
       "      <th>3</th>\n",
       "      <td>buying hits City anxious shoppers stock food&amp;a...</td>\n",
       "      <td>2</td>\n",
       "      <td>buying hit City anxious shopper stock food &amp; a...</td>\n",
       "    </tr>\n",
       "    <tr>\n",
       "      <th>4</th>\n",
       "      <td>One week everyone buying baby milk powder next...</td>\n",
       "      <td>0</td>\n",
       "      <td>One week everyone buying baby milk powder next...</td>\n",
       "    </tr>\n",
       "  </tbody>\n",
       "</table>\n",
       "</div>"
      ],
      "text/plain": [
       "                                       OriginalTweet  ...                                             Corpus\n",
       "0  TRENDING: New Yorkers encounter empty supermar...  ...  TRENDING : New Yorkers encounter empty superma...\n",
       "1  When I find hand sanitizer Fred Meyer, I turne...  ...  When I find hand sanitizer Fred Meyer , I turn...\n",
       "2                        Find protect loved ones . ?  ...                         Find protect loved one . ?\n",
       "3  buying hits City anxious shoppers stock food&a...  ...  buying hit City anxious shopper stock food & a...\n",
       "4  One week everyone buying baby milk powder next...  ...  One week everyone buying baby milk powder next...\n",
       "\n",
       "[5 rows x 3 columns]"
      ]
     },
     "execution_count": 41,
     "metadata": {
      "tags": []
     },
     "output_type": "execute_result"
    }
   ],
   "source": [
    "test.head()"
   ]
  },
  {
   "cell_type": "markdown",
   "metadata": {
    "id": "_eZE1-fbCrqH",
    "papermill": {
     "duration": 0.041094,
     "end_time": "2021-02-10T15:27:10.644539",
     "exception": false,
     "start_time": "2021-02-10T15:27:10.603445",
     "status": "completed"
    },
    "tags": []
   },
   "source": [
    "The train set is splitted to get a validation set and vectorized."
   ]
  },
  {
   "cell_type": "code",
   "execution_count": 42,
   "metadata": {
    "execution": {
     "iopub.execute_input": "2021-02-10T15:27:10.731011Z",
     "iopub.status.busy": "2021-02-10T15:27:10.730374Z",
     "iopub.status.idle": "2021-02-10T15:27:10.743521Z",
     "shell.execute_reply": "2021-02-10T15:27:10.742997Z"
    },
    "id": "Dbl_1f3QCrqI",
    "papermill": {
     "duration": 0.057512,
     "end_time": "2021-02-10T15:27:10.743694",
     "exception": false,
     "start_time": "2021-02-10T15:27:10.686182",
     "status": "completed"
    },
    "tags": []
   },
   "outputs": [],
   "source": [
    "XTrain = train.Corpus\n",
    "yTrain = train.Sentiment\n",
    "\n",
    "XTest = test.Corpus\n",
    "yTest = test.Sentiment\n",
    "\n",
    "XTrain, XVal, yTrain, yVal = train_test_split(XTrain, yTrain, test_size=0.2,random_state=42)"
   ]
  },
  {
   "cell_type": "code",
   "execution_count": 43,
   "metadata": {
    "colab": {
     "base_uri": "https://localhost:8080/"
    },
    "execution": {
     "iopub.execute_input": "2021-02-10T15:27:10.833124Z",
     "iopub.status.busy": "2021-02-10T15:27:10.832195Z",
     "iopub.status.idle": "2021-02-10T15:27:10.836523Z",
     "shell.execute_reply": "2021-02-10T15:27:10.836993Z"
    },
    "id": "sTOWSEl5CrqK",
    "outputId": "646e0deb-9502-4ad9-924e-8db6651eee06",
    "papermill": {
     "duration": 0.051477,
     "end_time": "2021-02-10T15:27:10.837157",
     "exception": false,
     "start_time": "2021-02-10T15:27:10.785680",
     "status": "completed"
    },
    "tags": []
   },
   "outputs": [
    {
     "data": {
      "text/plain": [
       "((32925,), (8232,), (32925,), (8232,))"
      ]
     },
     "execution_count": 43,
     "metadata": {
      "tags": []
     },
     "output_type": "execute_result"
    }
   ],
   "source": [
    "XTrain.shape, XVal.shape, yTrain.shape, yVal.shape"
   ]
  },
  {
   "cell_type": "code",
   "execution_count": 44,
   "metadata": {
    "execution": {
     "iopub.execute_input": "2021-02-10T15:27:10.925795Z",
     "iopub.status.busy": "2021-02-10T15:27:10.924824Z",
     "iopub.status.idle": "2021-02-10T15:27:14.183976Z",
     "shell.execute_reply": "2021-02-10T15:27:14.183273Z"
    },
    "id": "MjA05-JgCrqL",
    "papermill": {
     "duration": 3.304332,
     "end_time": "2021-02-10T15:27:14.184161",
     "exception": false,
     "start_time": "2021-02-10T15:27:10.879829",
     "status": "completed"
    },
    "tags": []
   },
   "outputs": [],
   "source": [
    "vectorizer = CountVectorizer(stop_words='english',ngram_range=(1,2),min_df=5).fit(covid.Corpus)\n",
    "\n",
    "XTrainVec = vectorizer.transform(XTrain)\n",
    "XValVec = vectorizer.transform(XVal)\n",
    "XTestVec = vectorizer.transform(XTest)"
   ]
  },
  {
   "cell_type": "markdown",
   "metadata": {
    "id": "CxJoezXhCrqM",
    "papermill": {
     "duration": 0.042115,
     "end_time": "2021-02-10T15:27:14.269781",
     "exception": false,
     "start_time": "2021-02-10T15:27:14.227666",
     "status": "completed"
    },
    "tags": []
   },
   "source": [
    "Logistic Regression Performance"
   ]
  },
  {
   "cell_type": "code",
   "execution_count": 45,
   "metadata": {
    "execution": {
     "iopub.execute_input": "2021-02-10T15:27:14.359435Z",
     "iopub.status.busy": "2021-02-10T15:27:14.358842Z",
     "iopub.status.idle": "2021-02-10T15:27:14.362478Z",
     "shell.execute_reply": "2021-02-10T15:27:14.361896Z"
    },
    "id": "z5sKTGbxCrqN",
    "papermill": {
     "duration": 0.050286,
     "end_time": "2021-02-10T15:27:14.362629",
     "exception": false,
     "start_time": "2021-02-10T15:27:14.312343",
     "status": "completed"
    },
    "tags": []
   },
   "outputs": [],
   "source": [
    "logReg = LogisticRegression(random_state=42)"
   ]
  },
  {
   "cell_type": "code",
   "execution_count": 46,
   "metadata": {
    "colab": {
     "base_uri": "https://localhost:8080/"
    },
    "execution": {
     "iopub.execute_input": "2021-02-10T15:27:14.453444Z",
     "iopub.status.busy": "2021-02-10T15:27:14.452864Z",
     "iopub.status.idle": "2021-02-10T15:27:27.378906Z",
     "shell.execute_reply": "2021-02-10T15:27:27.378099Z"
    },
    "id": "B1jvZ085CrqQ",
    "outputId": "7fe63e13-39ee-4279-b652-17534774f93f",
    "papermill": {
     "duration": 12.974182,
     "end_time": "2021-02-10T15:27:27.379121",
     "exception": false,
     "start_time": "2021-02-10T15:27:14.404939",
     "status": "completed"
    },
    "tags": []
   },
   "outputs": [
    {
     "name": "stderr",
     "output_type": "stream",
     "text": [
      "[Parallel(n_jobs=-1)]: Using backend LokyBackend with 2 concurrent workers.\n",
      "[Parallel(n_jobs=-1)]: Done  10 out of  10 | elapsed:   18.3s finished\n"
     ]
    },
    {
     "data": {
      "text/plain": [
       "0.7989068918605282"
      ]
     },
     "execution_count": 46,
     "metadata": {
      "tags": []
     },
     "output_type": "execute_result"
    }
   ],
   "source": [
    "cross_val_score(LogisticRegression(random_state=42),\n",
    "                XTrainVec, yTrain, cv=10, verbose=1, n_jobs=-1).mean()"
   ]
  },
  {
   "cell_type": "code",
   "execution_count": 47,
   "metadata": {
    "colab": {
     "base_uri": "https://localhost:8080/"
    },
    "execution": {
     "iopub.execute_input": "2021-02-10T15:27:27.472526Z",
     "iopub.status.busy": "2021-02-10T15:27:27.471300Z",
     "iopub.status.idle": "2021-02-10T15:27:32.473386Z",
     "shell.execute_reply": "2021-02-10T15:27:32.474367Z"
    },
    "id": "XXzUNKbjCrqR",
    "outputId": "c46de237-6597-4e9a-a18e-4fc79a2877d7",
    "papermill": {
     "duration": 5.052193,
     "end_time": "2021-02-10T15:27:32.474657",
     "exception": false,
     "start_time": "2021-02-10T15:27:27.422464",
     "status": "completed"
    },
    "tags": []
   },
   "outputs": [
    {
     "name": "stdout",
     "output_type": "stream",
     "text": [
      "              precision    recall  f1-score   support\n",
      "\n",
      "           0       0.70      0.73      0.72      1553\n",
      "           1       0.83      0.84      0.83      3617\n",
      "           2       0.82      0.79      0.80      3062\n",
      "\n",
      "    accuracy                           0.80      8232\n",
      "   macro avg       0.78      0.79      0.78      8232\n",
      "weighted avg       0.80      0.80      0.80      8232\n",
      "\n"
     ]
    },
    {
     "name": "stderr",
     "output_type": "stream",
     "text": [
      "/usr/local/lib/python3.6/dist-packages/sklearn/linear_model/_logistic.py:940: ConvergenceWarning: lbfgs failed to converge (status=1):\n",
      "STOP: TOTAL NO. of ITERATIONS REACHED LIMIT.\n",
      "\n",
      "Increase the number of iterations (max_iter) or scale the data as shown in:\n",
      "    https://scikit-learn.org/stable/modules/preprocessing.html\n",
      "Please also refer to the documentation for alternative solver options:\n",
      "    https://scikit-learn.org/stable/modules/linear_model.html#logistic-regression\n",
      "  extra_warning_msg=_LOGISTIC_SOLVER_CONVERGENCE_MSG)\n"
     ]
    }
   ],
   "source": [
    "model = logReg.fit(XTrainVec, yTrain)\n",
    "print(classification_report(yVal, model.predict(XValVec)))"
   ]
  },
  {
   "cell_type": "code",
   "execution_count": 52,
   "metadata": {
    "colab": {
     "base_uri": "https://localhost:8080/"
    },
    "id": "0ljqdkPVCrqT",
    "outputId": "87dfbe2d-9b6b-4040-8616-2391bd0c98ad",
    "papermill": {
     "duration": 0.043357,
     "end_time": "2021-02-10T15:27:32.712121",
     "exception": false,
     "start_time": "2021-02-10T15:27:32.668764",
     "status": "completed"
    },
    "tags": []
   },
   "outputs": [
    {
     "name": "stdout",
     "output_type": "stream",
     "text": [
      "              precision    recall  f1-score   support\n",
      "\n",
      "           0       0.65      0.65      0.65       619\n",
      "           1       0.78      0.81      0.80      1546\n",
      "           2       0.80      0.78      0.79      1633\n",
      "\n",
      "    accuracy                           0.77      3798\n",
      "   macro avg       0.75      0.75      0.75      3798\n",
      "weighted avg       0.77      0.77      0.77      3798\n",
      "\n"
     ]
    }
   ],
   "source": [
    "print(classification_report(yTest, model.predict(XTestVec)))"
   ]
  },
  {
   "cell_type": "code",
   "execution_count": null,
   "metadata": {},
   "outputs": [],
   "source": [
    "# As expected, there is a little drop down in performance when compared with the general\n",
    "# outlook of the training and validation evaluations. Fine tuning this model by using grid search\n",
    "# to optimize it's parameters may give a slightly better improvement."
   ]
  },
  {
   "cell_type": "markdown",
   "metadata": {
    "id": "dgIZyVQWCrqU",
    "papermill": {
     "duration": 0.043392,
     "end_time": "2021-02-10T15:27:32.799481",
     "exception": false,
     "start_time": "2021-02-10T15:27:32.756089",
     "status": "completed"
    },
    "tags": []
   },
   "source": [
    "LONG SHORT TERM MEMORY (LSTM) MODEL"
   ]
  },
  {
   "cell_type": "code",
   "execution_count": 53,
   "metadata": {
    "execution": {
     "iopub.execute_input": "2021-02-10T15:27:32.896590Z",
     "iopub.status.busy": "2021-02-10T15:27:32.895957Z",
     "iopub.status.idle": "2021-02-10T15:27:38.414318Z",
     "shell.execute_reply": "2021-02-10T15:27:38.413667Z"
    },
    "id": "_ntNKw2TCrqV",
    "papermill": {
     "duration": 5.571031,
     "end_time": "2021-02-10T15:27:38.414500",
     "exception": false,
     "start_time": "2021-02-10T15:27:32.843469",
     "status": "completed"
    },
    "tags": []
   },
   "outputs": [],
   "source": [
    "from tensorflow import keras\n",
    "from tensorflow.keras.preprocessing.text import Tokenizer\n",
    "from tensorflow.keras.preprocessing.sequence import pad_sequences\n",
    "from tensorflow.keras.layers import Embedding, Dropout\n",
    "from tensorflow.keras import models, layers\n",
    "from tensorflow.keras.callbacks import EarlyStopping\n",
    "from tensorflow.keras.utils import to_categorical"
   ]
  },
  {
   "cell_type": "code",
   "execution_count": 54,
   "metadata": {
    "colab": {
     "base_uri": "https://localhost:8080/"
    },
    "execution": {
     "iopub.execute_input": "2021-02-10T15:27:38.523427Z",
     "iopub.status.busy": "2021-02-10T15:27:38.522669Z",
     "iopub.status.idle": "2021-02-10T15:27:38.525797Z",
     "shell.execute_reply": "2021-02-10T15:27:38.526199Z"
    },
    "id": "yQvQRscPCrqW",
    "outputId": "3a21748b-d466-494d-a72d-0a31ff725b68",
    "papermill": {
     "duration": 0.067277,
     "end_time": "2021-02-10T15:27:38.526399",
     "exception": false,
     "start_time": "2021-02-10T15:27:38.459122",
     "status": "completed"
    },
    "tags": []
   },
   "outputs": [
    {
     "data": {
      "text/plain": [
       "41157"
      ]
     },
     "execution_count": 54,
     "metadata": {
      "tags": []
     },
     "output_type": "execute_result"
    }
   ],
   "source": [
    "lines = []\n",
    "for line in train['Corpus']:\n",
    "    lines.append(line)\n",
    "    \n",
    "len(lines)"
   ]
  },
  {
   "cell_type": "markdown",
   "metadata": {
    "id": "_REozBohCrqY"
   },
   "source": [
    "DATA PREPROCESSING"
   ]
  },
  {
   "cell_type": "markdown",
   "metadata": {},
   "source": [
    "The data is tokenized, turned into sequences and padded inorder to have a uniform sequence length before it's fed into the neural network"
   ]
  },
  {
   "cell_type": "code",
   "execution_count": 55,
   "metadata": {
    "colab": {
     "base_uri": "https://localhost:8080/"
    },
    "execution": {
     "iopub.execute_input": "2021-02-10T15:27:38.735540Z",
     "iopub.status.busy": "2021-02-10T15:27:38.730323Z",
     "iopub.status.idle": "2021-02-10T15:27:39.747398Z",
     "shell.execute_reply": "2021-02-10T15:27:39.748046Z"
    },
    "id": "bXsgOwepCrqa",
    "outputId": "98127bcb-1a2b-4886-8c84-58b31548d7ce",
    "papermill": {
     "duration": 1.072785,
     "end_time": "2021-02-10T15:27:39.748296",
     "exception": false,
     "start_time": "2021-02-10T15:27:38.675511",
     "status": "completed"
    },
    "tags": []
   },
   "outputs": [
    {
     "name": "stdout",
     "output_type": "stream",
     "text": [
      "Found 33411 unique tokens.\n"
     ]
    }
   ],
   "source": [
    "tokenizer = Tokenizer(num_words=5000, lower=True)\n",
    "tokenizer.fit_on_texts(train['Corpus'].values)\n",
    "wordIndex = len(tokenizer.word_index) + 1\n",
    "print('Found %s unique tokens.' % (wordIndex))"
   ]
  },
  {
   "cell_type": "code",
   "execution_count": 58,
   "metadata": {
    "execution": {
     "iopub.execute_input": "2021-02-10T15:27:39.899149Z",
     "iopub.status.busy": "2021-02-10T15:27:39.878192Z",
     "iopub.status.idle": "2021-02-10T15:27:41.287057Z",
     "shell.execute_reply": "2021-02-10T15:27:41.287530Z"
    },
    "id": "Z6gJMrliCrqc",
    "papermill": {
     "duration": 1.494107,
     "end_time": "2021-02-10T15:27:41.287736",
     "exception": false,
     "start_time": "2021-02-10T15:27:39.793629",
     "status": "completed"
    },
    "tags": []
   },
   "outputs": [],
   "source": [
    "XTrain = tokenizer.texts_to_sequences(train['Corpus'].values)\n",
    "XTrain = pad_sequences(XTrain, maxlen=1000)\n",
    "\n",
    "XTest = tokenizer.texts_to_sequences(test['Corpus'].values)\n",
    "XTest = pad_sequences(XTest, maxlen=1000)"
   ]
  },
  {
   "cell_type": "code",
   "execution_count": 59,
   "metadata": {
    "colab": {
     "base_uri": "https://localhost:8080/"
    },
    "execution": {
     "iopub.execute_input": "2021-02-10T15:27:41.385862Z",
     "iopub.status.busy": "2021-02-10T15:27:41.385090Z",
     "iopub.status.idle": "2021-02-10T15:27:41.389043Z",
     "shell.execute_reply": "2021-02-10T15:27:41.389519Z"
    },
    "id": "v0P578wgCrqd",
    "outputId": "ce2e2d54-0ca2-40e2-eea5-5bb21f134f71",
    "papermill": {
     "duration": 0.05475,
     "end_time": "2021-02-10T15:27:41.389797",
     "exception": false,
     "start_time": "2021-02-10T15:27:41.335047",
     "status": "completed"
    },
    "tags": []
   },
   "outputs": [
    {
     "data": {
      "text/plain": [
       "((41157, 1000), (3798, 1000))"
      ]
     },
     "execution_count": 59,
     "metadata": {
      "tags": []
     },
     "output_type": "execute_result"
    }
   ],
   "source": [
    "XTrain.shape, XTest.shape"
   ]
  },
  {
   "cell_type": "code",
   "execution_count": 60,
   "metadata": {
    "execution": {
     "iopub.execute_input": "2021-02-10T15:27:41.585809Z",
     "iopub.status.busy": "2021-02-10T15:27:41.585206Z",
     "iopub.status.idle": "2021-02-10T15:27:41.590364Z",
     "shell.execute_reply": "2021-02-10T15:27:41.589739Z"
    },
    "id": "7tjWTKZ7Crqe",
    "papermill": {
     "duration": 0.055079,
     "end_time": "2021-02-10T15:27:41.590508",
     "exception": false,
     "start_time": "2021-02-10T15:27:41.535429",
     "status": "completed"
    },
    "tags": []
   },
   "outputs": [],
   "source": [
    "yTrain = to_categorical(train['Sentiment'], 3)\n",
    "yTest = to_categorical(test['Sentiment'], 3)"
   ]
  },
  {
   "cell_type": "markdown",
   "metadata": {},
   "source": [
    "NEURAL NETWORK"
   ]
  },
  {
   "cell_type": "markdown",
   "metadata": {},
   "source": [
    "The neural network consists of one embedded layer followed by one LSTM layer with 128 units. A Dropout layer is added for regularizatin to prevent overfitting of the model. The neural architecture ends with a Dense layer having three units to generate the output or prediction classes. The activation used is softmax since it is a single label, multi class problem."
   ]
  },
  {
   "cell_type": "code",
   "execution_count": 61,
   "metadata": {
    "execution": {
     "iopub.execute_input": "2021-02-10T15:27:41.688505Z",
     "iopub.status.busy": "2021-02-10T15:27:41.687850Z",
     "iopub.status.idle": "2021-02-10T15:27:41.986038Z",
     "shell.execute_reply": "2021-02-10T15:27:41.986618Z"
    },
    "id": "L5fhgdCICrqf",
    "papermill": {
     "duration": 0.349655,
     "end_time": "2021-02-10T15:27:41.986803",
     "exception": false,
     "start_time": "2021-02-10T15:27:41.637148",
     "status": "completed"
    },
    "tags": []
   },
   "outputs": [],
   "source": [
    "model= models.Sequential()\n",
    "model.add(layers.Embedding(wordIndex, 100, input_length=1000))\n",
    "model.add(layers.LSTM(128))\n",
    "model.add(Dropout(0.2))\n",
    "model.add(layers.Dense(3, activation='softmax'))"
   ]
  },
  {
   "cell_type": "code",
   "execution_count": 62,
   "metadata": {
    "id": "ZzvPX_OaCrqg"
   },
   "outputs": [],
   "source": [
    "model.compile(loss='categorical_crossentropy', optimizer=keras.optimizers.RMSprop(lr=0.01),\n",
    "              metrics=['accuracy'])"
   ]
  },
  {
   "cell_type": "markdown",
   "metadata": {},
   "source": [
    "The callbacks parameter implemented monitors the validation loss and stops the training process once there is no apparent improvement for 10 epochs. It will also restore the best version of the model recorded during training."
   ]
  },
  {
   "cell_type": "code",
   "execution_count": 63,
   "metadata": {
    "colab": {
     "base_uri": "https://localhost:8080/"
    },
    "execution": {
     "iopub.execute_input": "2021-02-10T15:27:42.083048Z",
     "iopub.status.busy": "2021-02-10T15:27:42.082369Z",
     "iopub.status.idle": "2021-02-10T17:42:51.531311Z",
     "shell.execute_reply": "2021-02-10T17:42:51.531828Z"
    },
    "id": "uJWPzc7xCrqh",
    "outputId": "9d77ec4e-beb8-468d-d5b0-169fbd4e7017",
    "papermill": {
     "duration": 8109.499255,
     "end_time": "2021-02-10T17:42:51.532035",
     "exception": false,
     "start_time": "2021-02-10T15:27:42.032780",
     "status": "completed"
    },
    "tags": []
   },
   "outputs": [
    {
     "name": "stdout",
     "output_type": "stream",
     "text": [
      "Epoch 1/100\n",
      "132/132 [==============================] - 31s 175ms/step - loss: 1.0167 - accuracy: 0.5009 - val_loss: 0.4547 - val_accuracy: 0.8423\n",
      "Epoch 2/100\n",
      "132/132 [==============================] - 23s 171ms/step - loss: 0.4285 - accuracy: 0.8569 - val_loss: 0.4138 - val_accuracy: 0.8643\n",
      "Epoch 3/100\n",
      "132/132 [==============================] - 22s 170ms/step - loss: 0.3428 - accuracy: 0.8851 - val_loss: 0.3957 - val_accuracy: 0.8714\n",
      "Epoch 4/100\n",
      "132/132 [==============================] - 23s 171ms/step - loss: 0.2804 - accuracy: 0.9077 - val_loss: 0.4200 - val_accuracy: 0.8625\n",
      "Epoch 5/100\n",
      "132/132 [==============================] - 23s 171ms/step - loss: 0.2199 - accuracy: 0.9242 - val_loss: 0.4947 - val_accuracy: 0.8506\n",
      "Epoch 6/100\n",
      "132/132 [==============================] - 23s 173ms/step - loss: 0.1768 - accuracy: 0.9400 - val_loss: 0.5574 - val_accuracy: 0.8479\n",
      "Epoch 7/100\n",
      "132/132 [==============================] - 23s 172ms/step - loss: 0.1331 - accuracy: 0.9544 - val_loss: 0.6331 - val_accuracy: 0.8370\n",
      "Epoch 8/100\n",
      "132/132 [==============================] - 23s 173ms/step - loss: 0.1038 - accuracy: 0.9644 - val_loss: 0.7518 - val_accuracy: 0.8383\n",
      "Epoch 9/100\n",
      "132/132 [==============================] - 23s 174ms/step - loss: 0.0742 - accuracy: 0.9752 - val_loss: 0.7996 - val_accuracy: 0.8240\n",
      "Epoch 10/100\n",
      "132/132 [==============================] - 23s 174ms/step - loss: 0.0593 - accuracy: 0.9818 - val_loss: 0.9776 - val_accuracy: 0.8115\n",
      "Epoch 11/100\n",
      "132/132 [==============================] - 23s 173ms/step - loss: 0.0433 - accuracy: 0.9861 - val_loss: 1.0470 - val_accuracy: 0.8145\n",
      "Epoch 12/100\n",
      "132/132 [==============================] - 23s 173ms/step - loss: 0.0313 - accuracy: 0.9895 - val_loss: 1.1567 - val_accuracy: 0.8198\n",
      "Epoch 13/100\n",
      "132/132 [==============================] - 23s 173ms/step - loss: 0.0298 - accuracy: 0.9910 - val_loss: 1.1964 - val_accuracy: 0.8168\n"
     ]
    }
   ],
   "source": [
    "history = model.fit(XTrain ,yTrain, batch_size=250, epochs=100, validation_split=0.2,\n",
    "         callbacks=[EarlyStopping(monitor='val_loss', patience=10, restore_best_weights=True)])"
   ]
  },
  {
   "cell_type": "markdown",
   "metadata": {},
   "source": [
    "VISUALIZING THE LOSS/ACCURACY OF THE MODEL IN-BEWEEN EPOCHS"
   ]
  },
  {
   "cell_type": "code",
   "execution_count": 64,
   "metadata": {
    "colab": {
     "base_uri": "https://localhost:8080/",
     "height": 700
    },
    "id": "OVQ_x-tRCrqi",
    "outputId": "77a825d7-d75d-49a0-8a6c-36a52a9a2b2e"
   },
   "outputs": [
    {
     "data": {
      "text/plain": [
       "Text(0.5, 0.98, 'Loss/Accuracy of the LSTM Sentiment Classifier')"
      ]
     },
     "execution_count": 64,
     "metadata": {
      "tags": []
     },
     "output_type": "execute_result"
    },
    {
     "data": {
      "image/png": "[encoded data removed]",
      "text/plain": [
       "<Figure size 720x720 with 2 Axes>"
      ]
     },
     "metadata": {
      "tags": []
     },
     "output_type": "display_data"
    }
   ],
   "source": [
    "accuracy = history.history['accuracy']\n",
    "valAccuracy = history.history['val_accuracy']\n",
    "loss = history.history['loss']\n",
    "valLoss = history.history['val_loss']\n",
    "epochs = range(1, len(accuracy) + 1)\n",
    "\n",
    "plt.style.use('ggplot')\n",
    "fig, (ax1, ax2) = plt.subplots(nrows=2, ncols=1, figsize=(10,10))\n",
    "plot = ax1.plot(epochs, accuracy, 'bo', label='Training Accuracy')\n",
    "ax1.plot(epochs, valAccuracy, 'b', label='Validation Accuracy')\n",
    "ax1.set(title='Training/Validation Accuracy', ylabel='Accuracy')\n",
    "ax1.legend()\n",
    "\n",
    "plot = ax2.plot(epochs, loss, 'bo', label='Training Loss')\n",
    "ax2.plot(epochs, valLoss, 'b', label='Validation Loss')\n",
    "ax2.set(title='Training/Validation Loss', ylabel='Loss', xlabel='Epochs')\n",
    "ax2.legend()\n",
    "\n",
    "fig.suptitle('Loss/Accuracy of the LSTM Sentiment Classifier', fontsize=16, fontweight = 'bold')"
   ]
  },
  {
   "cell_type": "code",
   "execution_count": null,
   "metadata": {},
   "outputs": [],
   "source": [
    "# The model overfits: In the absence of more data, the overfitting being experienced can probably be\n",
    "# minimized by reducing the number of layers or by reducing the number of units used in the neural\n",
    "# architecture. The Dropout can also be increased. Weight regularization via the keras\n",
    "# kernel_regularizer can also be implemented."
   ]
  },
  {
   "cell_type": "code",
   "execution_count": 65,
   "metadata": {
    "colab": {
     "base_uri": "https://localhost:8080/"
    },
    "id": "iUUMaU_jCrqj",
    "outputId": "37968476-e75c-4f09-cb45-7513b2a3b4cd"
   },
   "outputs": [
    {
     "name": "stdout",
     "output_type": "stream",
     "text": [
      "119/119 [==============================] - 2s 20ms/step - loss: 0.4529 - accuracy: 0.8407\n"
     ]
    }
   ],
   "source": [
    "results = model.evaluate(XTest, yTest)"
   ]
  },
  {
   "cell_type": "code",
   "execution_count": null,
   "metadata": {},
   "outputs": [],
   "source": [
    "# A test accuracy score of 0.84 gives a much improved performance compared to the Logistic Regression\n",
    "# algorithm. But probably can still be improved by building a better neural construct."
   ]
  },
  {
   "cell_type": "code",
   "execution_count": 66,
   "metadata": {
    "colab": {
     "base_uri": "https://localhost:8080/"
    },
    "id": "Ua1KzodWCrqj",
    "outputId": "0978d339-01cf-4412-b561-deccb796fa56"
   },
   "outputs": [
    {
     "data": {
      "text/plain": [
       "<tensorflow.python.keras.engine.sequential.Sequential at 0x7f05e9f14940>"
      ]
     },
     "execution_count": 66,
     "metadata": {
      "tags": []
     },
     "output_type": "execute_result"
    }
   ],
   "source": [
    "model.save('./LSTM classifier.h5')\n",
    "keras.models.load_model('./LSTM classifier.h5')"
   ]
  }
 ],
 "metadata": {
  "accelerator": "GPU",
  "colab": {
   "collapsed_sections": [],
   "name": "iQube David Oluwatobi.ipynb",
   "provenance": []
  },
  "kernelspec": {
   "display_name": "Python 3",
   "language": "python",
   "name": "python3"
  },
  "language_info": {
   "codemirror_mode": {
    "name": "ipython",
    "version": 3
   },
   "file_extension": ".py",
   "mimetype": "text/x-python",
   "name": "python",
   "nbconvert_exporter": "python",
   "pygments_lexer": "ipython3",
   "version": "3.8.5"
  },
  "papermill": {
   "default_parameters": {},
   "duration": 8176.660131,
   "end_time": "2021-02-10T17:42:54.772632",
   "environment_variables": {},
   "exception": null,
   "input_path": "__notebook__.ipynb",
   "output_path": "__notebook__.ipynb",
   "parameters": {},
   "start_time": "2021-02-10T15:26:38.112501",
   "version": "2.2.2"
  }
 },
 "nbformat": 4,
 "nbformat_minor": 1
}
